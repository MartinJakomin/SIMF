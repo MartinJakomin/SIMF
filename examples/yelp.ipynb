{
 "cells": [
  {
   "cell_type": "code",
   "execution_count": 1,
   "metadata": {},
   "outputs": [],
   "source": [
    "import matplotlib.pyplot as plt\n",
    "import numpy as np\n",
    "import tables\n",
    "\n",
    "from collections import OrderedDict"
   ]
  },
  {
   "cell_type": "markdown",
   "metadata": {},
   "source": [
    "# SIMF\n",
    "\n",
    "Load the `simf` module."
   ]
  },
  {
   "cell_type": "code",
   "execution_count": 2,
   "metadata": {},
   "outputs": [],
   "source": [
    "from simf import *\n",
    "from simf.common import split_streams, build_test_set, build_sparse_matrix"
   ]
  },
  {
   "cell_type": "markdown",
   "metadata": {},
   "source": [
    "## Load data\n",
    "\n",
    "Read *yelp* data on *users*, *bars*, *hotels* and *restaurants*.\n",
    "\n",
    "The data covers the period from 2.7.2017 to 2.7.2018."
   ]
  },
  {
   "cell_type": "code",
   "execution_count": 3,
   "metadata": {},
   "outputs": [],
   "source": [
    "with tables.open_file('data/yelp_users-restaurants.tbl', 'r') as h5_file:\n",
    "    s1 = h5_file.root.data.read()\n",
    "with tables.open_file('data/yelp_users-bars.tbl', 'r') as h5_file:\n",
    "    s2 = h5_file.root.data.read()\n",
    "with tables.open_file('data/yelp_users-hotels.tbl', 'r') as h5_file:\n",
    "    s3 = h5_file.root.data.read()\n",
    "\n",
    "# Create data streams\n",
    "train_ur, train_ub, train_uh, test_ur, test_ub, test_uh = split_streams([s1, s2, s3], t=1508546800)\n",
    "test_set = build_test_set(test_ur)\n",
    "\n",
    "# Create object types\n",
    "o_users = ObjectType('users', 25)\n",
    "o_restaurants = ObjectType('restaurants', 10)\n",
    "o_bars = ObjectType('bars', 10)\n",
    "o_hotels = ObjectType('hotels', 10)"
   ]
  },
  {
   "cell_type": "markdown",
   "metadata": {},
   "source": [
    "Data is encoded in sparse format, and includes:\n",
    "* row\n",
    "* column\n",
    "* value\n",
    "* timestamp\n",
    "\n",
    "For example, let's look at stream 1:"
   ]
  },
  {
   "cell_type": "code",
   "execution_count": 4,
   "metadata": {},
   "outputs": [
    {
     "data": {
      "text/plain": [
       "(4, 589772)"
      ]
     },
     "execution_count": 4,
     "metadata": {},
     "output_type": "execute_result"
    }
   ],
   "source": [
    "s1.shape"
   ]
  },
  {
   "cell_type": "markdown",
   "metadata": {},
   "source": [
    "There are 21936 data points. Let's look at the first three entries:"
   ]
  },
  {
   "cell_type": "code",
   "execution_count": 5,
   "metadata": {},
   "outputs": [
    {
     "data": {
      "text/plain": [
       "array([[         0,          1,          1],\n",
       "       [         0,          1,          2],\n",
       "       [         4,          4,          5],\n",
       "       [1505772000, 1505772000, 1505772000]], dtype=int32)"
      ]
     },
     "execution_count": 5,
     "metadata": {},
     "output_type": "execute_result"
    }
   ],
   "source": [
    "s1[:,:3]"
   ]
  },
  {
   "cell_type": "markdown",
   "metadata": {},
   "source": [
    "The data is divided into the pretraining (from 2.7.2017 to 20.10.2017) and streaming set (from 21.10.2017 to 2.7.2018). The split date is set when calling the `split_streams` function with parameter `t=1508546800`."
   ]
  },
  {
   "cell_type": "markdown",
   "metadata": {},
   "source": [
    "## Pretraining"
   ]
  },
  {
   "cell_type": "code",
   "execution_count": 6,
   "metadata": {},
   "outputs": [],
   "source": [
    "def pre_train_models(models, relations, streams):\n",
    "    main_relation = relations[0]\n",
    "    test_set = build_test_set(streams[0])\n",
    "    # Iterate through models\n",
    "    for m_name, m in models.items():\n",
    "        print(m_name)\n",
    "        data = [main_relation]  # data is just one stream (main relation)\n",
    "        if \"X3\" in m_name:\n",
    "            # data is composed of all three streams (main relation + two auxiliary relations)\n",
    "            data = relations\n",
    "        # Fit models\n",
    "        m.fit(data=data, verbose=True)\n",
    "        # Calculate the error (train and test - remaining stream)\n",
    "        print(\"Train error: RMSE:%f,  MAE:%f\" % m.get_train_error()[main_relation])\n",
    "        print(\"Test error: RMSE:%f,  MAE:%f\\n\" % m.get_test_error(main_relation, test_set)[main_relation])\n",
    "    print(\"Initial factorization complete\")\n",
    "    return models"
   ]
  },
  {
   "cell_type": "markdown",
   "metadata": {},
   "source": [
    "## Streaming phase"
   ]
  },
  {
   "cell_type": "code",
   "execution_count": 7,
   "metadata": {},
   "outputs": [],
   "source": [
    "def evaluate_stream(models, relations, streams, update_interval=3600, max_iter=3, max_updates=None):\n",
    "    r1, r2, r3 = relations\n",
    "    results = {}\n",
    "    # Update models with new params\n",
    "    for n, m in models.items():\n",
    "        m.max_iter = max_iter\n",
    "    print(\"Starting streaming phase\")\n",
    "    for k, s in enumerate(streams):\n",
    "        streams[k] = list([\n",
    "            [int(x) for x in s[0]],\n",
    "            [int(x) for x in s[1]],\n",
    "            [float(x) for x in s[2]],\n",
    "            [int(x) for x in s[3]]]\n",
    "        )\n",
    "    # Sliding windows of stream data - discrete intervals [current_ts, next_ts]\n",
    "    current_ts = streams[0][3][0]\n",
    "    next_ts = current_ts + update_interval\n",
    "    windows = [[] for k in streams]\n",
    "\n",
    "    i = 0\n",
    "    # End when main stream runs out of instances\n",
    "    while len(streams[0][3]) > 0:\n",
    "        if max_updates and i >= max_updates:\n",
    "            break\n",
    "        row, col, val, ts = [], [], [], []\n",
    "        # Pop elements into the window\n",
    "        for k, s in enumerate(streams):\n",
    "            while len(s[3]) > 0 and s[3][0] <= next_ts:\n",
    "                row.append(s[0].pop(0))\n",
    "                col.append(s[1].pop(0))\n",
    "                val.append(s[2].pop(0))\n",
    "                ts.append(s[3].pop(0))\n",
    "            windows[k] = [row, col, val, ts]\n",
    "            row, col, val, ts = [], [], [], []\n",
    "\n",
    "        # Continue with next window if no updates on main relation\n",
    "        if float(len(windows[0][0])) < 1:\n",
    "            current_ts += update_interval\n",
    "            next_ts += update_interval\n",
    "            continue\n",
    "        # Get true values from the main stream\n",
    "        true_values = np.array(windows[0][2])\n",
    "        average_rmse = None\n",
    "\n",
    "        if i % 25 == 0:\n",
    "            print()\n",
    "            print(\"Window: \", i, current_ts, next_ts)\n",
    "        # Loop through all models\n",
    "        for m_name, m in models.items():\n",
    "            # Get predictions for the current window\n",
    "            predictions = m.predict_stream(r1, list(zip(*windows[0][:3])), verbose=False)\n",
    "            # Get the error of the average predictor (for calculating rrmse)\n",
    "            if m_name == 'Average':\n",
    "                average_rmse = m.rmse(true_values, predictions)\n",
    "            # Get the error for other predictors and calculate the rrmse\n",
    "            mrmse = m.rmse(true_values, predictions)\n",
    "            rrmse = mrmse / average_rmse\n",
    "            if i % 25 == 0:\n",
    "                print(\"%s window error: RMSE:%f,  RRMSE:%f\" % (m_name, mrmse, rrmse))\n",
    "            # Append results\n",
    "            if m_name not in results:\n",
    "                results[m_name] = ([mrmse], [rrmse])\n",
    "            else:\n",
    "                results[m_name][0].append(mrmse)\n",
    "                results[m_name][1].append(rrmse)\n",
    "\n",
    "            # Update models\n",
    "            r1.set_matrix(build_sparse_matrix(windows[0][:3]))\n",
    "            r2.set_matrix(build_sparse_matrix(windows[1][:3]))\n",
    "            r3.set_matrix(build_sparse_matrix(windows[2][:3]))\n",
    "            data = [r1]  # data is just one stream (main relation)\n",
    "            if \"X3\" in m_name:\n",
    "                # data is composed of all three streams (main relation + two auxiliary relations)\n",
    "                data = [r1, r2, r3]\n",
    "            m.fit_update(data=data, verbose=False)\n",
    "\n",
    "        # Update the interval\n",
    "        current_ts += update_interval\n",
    "        next_ts += update_interval\n",
    "        i += 1\n",
    "    return results"
   ]
  },
  {
   "cell_type": "code",
   "execution_count": 8,
   "metadata": {
    "scrolled": true
   },
   "outputs": [],
   "source": [
    "def plot_results(results, plot_rrmse=True, l=0.99, title='', save_to_file=None, ylim=None):\n",
    "    plt.figure(figsize=(10, 5.5))\n",
    "    for name, res in results.items():\n",
    "        errors = res[int(plot_rrmse)]\n",
    "        preq_errors = []\n",
    "        si = 0\n",
    "        ni = 0\n",
    "        errors = np.array(errors)\n",
    "        for r in errors:\n",
    "            r = float(r)\n",
    "            si = r + l * si\n",
    "            ni = 1 + l * ni\n",
    "            preq_errors.append(si / float(ni))\n",
    "        plt.plot(range(len(preq_errors)), preq_errors, label=name)\n",
    "\n",
    "    if ylim:\n",
    "        plt.ylim(ylim)\n",
    "\n",
    "    plt.ylabel('Prequential RRMSE')\n",
    "    plt.xlabel('Instances (Updates)')\n",
    "    plt.title(title)\n",
    "    plt.legend(loc='upper right')\n",
    "    plt.show()\n",
    "    if save_to_file:\n",
    "        plt.savefig(save_to_file, bbox_inches='tight')"
   ]
  },
  {
   "cell_type": "markdown",
   "metadata": {},
   "source": [
    "# Two examples"
   ]
  },
  {
   "cell_type": "markdown",
   "metadata": {},
   "source": [
    "## Recommending *restaurants*"
   ]
  },
  {
   "cell_type": "markdown",
   "metadata": {},
   "source": [
    "### Pick models to test"
   ]
  },
  {
   "cell_type": "code",
   "execution_count": 9,
   "metadata": {},
   "outputs": [],
   "source": [
    "models = OrderedDict([\n",
    "    ('Average', Average()),\n",
    "    ('RMF', RMF(rank=25, max_iter=20, regularization=0.005, learning_rate=0.008)),\n",
    "    ('SIMF', SIMF(max_iter=20, regularization=0.005, learning_rate=0.008)),\n",
    "    ('SIMF_X3', SIMF(max_iter=20, regularization=0.005, learning_rate=0.008)),\n",
    "    ('SIMF_X3_CB', SIMF(max_iter=20, regularization=0.005, learning_rate=0.008, combine_bias=True)),\n",
    "])\n",
    "\n",
    "r_ur = Relation(o_users, o_restaurants, build_sparse_matrix(train_ur), weight=1)\n",
    "r_ub = Relation(o_users, o_bars, build_sparse_matrix(train_ub), weight=1)\n",
    "r_uh = Relation(o_users, o_hotels, build_sparse_matrix(train_uh), weight=1)"
   ]
  },
  {
   "cell_type": "markdown",
   "metadata": {},
   "source": [
    "Init random seed for consistent results."
   ]
  },
  {
   "cell_type": "code",
   "execution_count": 10,
   "metadata": {},
   "outputs": [],
   "source": [
    "np.random.seed(42)"
   ]
  },
  {
   "cell_type": "markdown",
   "metadata": {},
   "source": [
    "### Initial factorization"
   ]
  },
  {
   "cell_type": "code",
   "execution_count": 11,
   "metadata": {},
   "outputs": [
    {
     "name": "stdout",
     "output_type": "stream",
     "text": [
      "Average\n",
      "2019-04-15 23:15:13,485: Fitting the average model: bias=True, update=True\n",
      "2019-04-15 23:15:13,522: Fit complete in 0.03587603569030762 seconds\n",
      "Train error: RMSE:1.240055,  MAE:1.025735\n",
      "Test error: RMSE:1.400745,  MAE:1.165995\n",
      "\n",
      "RMF\n",
      "2019-04-15 23:15:15,731: Initialization complete in 0.09370613098144531 seconds\n",
      "2019-04-15 23:15:15,732: Factorizing (SGD) 1 relations: bias=True, max_iter=20, bias=True, regularization=0.005, learning rate=0.008 epsilon=0\n",
      "2019-04-15 23:15:41,702: Factorization complete in 26.06381916999817 seconds\n",
      "Train error: RMSE:0.855502,  MAE:0.672108\n",
      "Test error: RMSE:1.396186,  MAE:1.163119\n",
      "\n",
      "SIMF\n",
      "2019-04-15 23:15:45,042: Initialization complete in 0.07979297637939453 seconds\n",
      "2019-04-15 23:15:45,043: Factorizing (SGD) 1 relations: bias=True, max_iter=20, bias=True, regularization=0.005, learning rate=0.008 epsilon=0\n",
      "2019-04-15 23:16:31,606: Factorization complete in 46.6433310508728 seconds\n",
      "Train error: RMSE:0.881098,  MAE:0.723809\n",
      "Test error: RMSE:1.396270,  MAE:1.132172\n",
      "\n",
      "SIMF_X3\n",
      "2019-04-15 23:16:43,740: Initialization complete in 8.719822883605957 seconds\n",
      "2019-04-15 23:16:43,741: Factorizing (SGD) 3 relations: bias=True, max_iter=20, bias=True, regularization=0.005, learning rate=0.008 epsilon=0\n",
      "2019-04-15 23:17:31,094: Factorization complete in 56.07358503341675 seconds\n",
      "Train error: RMSE:0.873356,  MAE:0.716620\n",
      "Test error: RMSE:1.404820,  MAE:1.162668\n",
      "\n",
      "SIMF_X3_CB\n",
      "2019-04-15 23:17:43,042: Initialization complete in 8.780527114868164 seconds\n",
      "2019-04-15 23:17:43,043: Factorizing (SGD) 3 relations: bias=True, max_iter=20, bias=True, regularization=0.005, learning rate=0.008 epsilon=0\n",
      "2019-04-15 23:18:31,914: Factorization complete in 57.65216398239136 seconds\n",
      "Train error: RMSE:0.879263,  MAE:0.723237\n",
      "Test error: RMSE:1.402519,  MAE:1.161964\n",
      "\n",
      "Initial factorization complete\n"
     ]
    }
   ],
   "source": [
    "models = pre_train_models(models, [r_ur, r_ub, r_uh], [test_ur, test_ub, test_uh])"
   ]
  },
  {
   "cell_type": "markdown",
   "metadata": {},
   "source": [
    "### Stream evaluation"
   ]
  },
  {
   "cell_type": "code",
   "execution_count": 12,
   "metadata": {},
   "outputs": [
    {
     "name": "stdout",
     "output_type": "stream",
     "text": [
      "Starting streaming phase\n",
      "\n",
      "Window:  0 1508623200 1508626800\n",
      "Average window error: RMSE:1.449288,  RRMSE:1.000000\n",
      "RMF window error: RMSE:1.437898,  RRMSE:0.992141\n",
      "SIMF window error: RMSE:1.457204,  RRMSE:1.005462\n",
      "SIMF_X3 window error: RMSE:1.449247,  RRMSE:0.999972\n",
      "SIMF_X3_CB window error: RMSE:1.443729,  RRMSE:0.996164\n",
      "\n",
      "Window:  25 1510783200 1510786800\n",
      "Average window error: RMSE:1.374230,  RRMSE:1.000000\n",
      "RMF window error: RMSE:1.317803,  RRMSE:0.958940\n",
      "SIMF window error: RMSE:1.307333,  RRMSE:0.951320\n",
      "SIMF_X3 window error: RMSE:1.307725,  RRMSE:0.951606\n",
      "SIMF_X3_CB window error: RMSE:1.307882,  RRMSE:0.951720\n",
      "\n",
      "Window:  50 1512943200 1512946800\n",
      "Average window error: RMSE:1.400490,  RRMSE:1.000000\n",
      "RMF window error: RMSE:1.320947,  RRMSE:0.943203\n",
      "SIMF window error: RMSE:1.316444,  RRMSE:0.939989\n",
      "SIMF_X3 window error: RMSE:1.311661,  RRMSE:0.936573\n",
      "SIMF_X3_CB window error: RMSE:1.316842,  RRMSE:0.940272\n",
      "\n",
      "Window:  75 1515103200 1515106800\n",
      "Average window error: RMSE:1.339979,  RRMSE:1.000000\n",
      "RMF window error: RMSE:1.276685,  RRMSE:0.952764\n",
      "SIMF window error: RMSE:1.267020,  RRMSE:0.945552\n",
      "SIMF_X3 window error: RMSE:1.266858,  RRMSE:0.945431\n",
      "SIMF_X3_CB window error: RMSE:1.267014,  RRMSE:0.945547\n",
      "\n",
      "Window:  100 1517263200 1517266800\n",
      "Average window error: RMSE:1.352816,  RRMSE:1.000000\n",
      "RMF window error: RMSE:1.289798,  RRMSE:0.953417\n",
      "SIMF window error: RMSE:1.285499,  RRMSE:0.950239\n",
      "SIMF_X3 window error: RMSE:1.283736,  RRMSE:0.948936\n",
      "SIMF_X3_CB window error: RMSE:1.283810,  RRMSE:0.948990\n",
      "\n",
      "Window:  125 1519423200 1519426800\n",
      "Average window error: RMSE:1.472306,  RRMSE:1.000000\n",
      "RMF window error: RMSE:1.383162,  RRMSE:0.939453\n",
      "SIMF window error: RMSE:1.380982,  RRMSE:0.937973\n",
      "SIMF_X3 window error: RMSE:1.368953,  RRMSE:0.929802\n",
      "SIMF_X3_CB window error: RMSE:1.371463,  RRMSE:0.931507\n",
      "\n",
      "Window:  150 1521583200 1521586800\n",
      "Average window error: RMSE:1.423975,  RRMSE:1.000000\n",
      "RMF window error: RMSE:1.332985,  RRMSE:0.936101\n",
      "SIMF window error: RMSE:1.338834,  RRMSE:0.940208\n",
      "SIMF_X3 window error: RMSE:1.327244,  RRMSE:0.932070\n",
      "SIMF_X3_CB window error: RMSE:1.326230,  RRMSE:0.931357\n",
      "\n",
      "Window:  175 1523739600 1523743200\n",
      "Average window error: RMSE:1.458166,  RRMSE:1.000000\n",
      "RMF window error: RMSE:1.386271,  RRMSE:0.950695\n",
      "SIMF window error: RMSE:1.388187,  RRMSE:0.952009\n",
      "SIMF_X3 window error: RMSE:1.378443,  RRMSE:0.945327\n",
      "SIMF_X3_CB window error: RMSE:1.376465,  RRMSE:0.943970\n",
      "\n",
      "Window:  200 1525899600 1525903200\n",
      "Average window error: RMSE:1.378894,  RRMSE:1.000000\n",
      "RMF window error: RMSE:1.285637,  RRMSE:0.932368\n",
      "SIMF window error: RMSE:1.284822,  RRMSE:0.931777\n",
      "SIMF_X3 window error: RMSE:1.273583,  RRMSE:0.923626\n",
      "SIMF_X3_CB window error: RMSE:1.273955,  RRMSE:0.923896\n",
      "\n",
      "Window:  225 1528059600 1528063200\n",
      "Average window error: RMSE:1.447316,  RRMSE:1.000000\n",
      "RMF window error: RMSE:1.362211,  RRMSE:0.941198\n",
      "SIMF window error: RMSE:1.364369,  RRMSE:0.942689\n",
      "SIMF_X3 window error: RMSE:1.349130,  RRMSE:0.932160\n",
      "SIMF_X3_CB window error: RMSE:1.352601,  RRMSE:0.934558\n",
      "\n",
      "Window:  250 1530219600 1530223200\n",
      "Average window error: RMSE:1.471515,  RRMSE:1.000000\n",
      "RMF window error: RMSE:1.379956,  RRMSE:0.937780\n",
      "SIMF window error: RMSE:1.378805,  RRMSE:0.936998\n",
      "SIMF_X3 window error: RMSE:1.366931,  RRMSE:0.928928\n",
      "SIMF_X3_CB window error: RMSE:1.363693,  RRMSE:0.926728\n"
     ]
    }
   ],
   "source": [
    "results_restaurants = evaluate_stream(models, [r_ur, r_ub, r_uh], [test_ur, test_ub, test_uh])"
   ]
  },
  {
   "cell_type": "markdown",
   "metadata": {},
   "source": [
    "### Plot prequential RRMSE"
   ]
  },
  {
   "cell_type": "code",
   "execution_count": 13,
   "metadata": {},
   "outputs": [
    {
     "data": {
      "image/png": "[encoded data removed]",
      "text/plain": [
       "<matplotlib.figure.Figure at 0x117349b38>"
      ]
     },
     "metadata": {},
     "output_type": "display_data"
    }
   ],
   "source": [
    "plot_results(results_restaurants, title='Recommending restaurants', ylim=(0.93, 1.01))"
   ]
  },
  {
   "cell_type": "markdown",
   "metadata": {},
   "source": [
    "Please note that few first prequential error evaluations are unstable because they are obtained on relatively few test examples."
   ]
  },
  {
   "cell_type": "markdown",
   "metadata": {},
   "source": [
    "## Recommending *bars*"
   ]
  },
  {
   "cell_type": "markdown",
   "metadata": {},
   "source": [
    "### Pick models to test"
   ]
  },
  {
   "cell_type": "code",
   "execution_count": 14,
   "metadata": {},
   "outputs": [],
   "source": [
    "models = OrderedDict([\n",
    "    ('Average', Average()),\n",
    "    ('RMF', RMF(rank=25, max_iter=20, regularization=0.005, learning_rate=0.008)),\n",
    "    ('SIMF', SIMF(max_iter=20, regularization=0.005, learning_rate=0.008)),\n",
    "    ('SIMF_X3', SIMF(max_iter=20, regularization=0.005, learning_rate=0.008)),\n",
    "    ('SIMF_X3_CB', SIMF(max_iter=20, regularization=0.005, learning_rate=0.008, combine_bias=True)),\n",
    "])\n",
    "\n",
    "r_ur = Relation(o_users, o_restaurants, build_sparse_matrix(train_ur), weight=1)\n",
    "r_ub = Relation(o_users, o_bars, build_sparse_matrix(train_ub), weight=1)\n",
    "r_uh = Relation(o_users, o_hotels, build_sparse_matrix(train_uh), weight=1)"
   ]
  },
  {
   "cell_type": "markdown",
   "metadata": {},
   "source": [
    "We need to recreate the models and relations because they got modified during the execution of the previous example (*restaurants*)."
   ]
  },
  {
   "cell_type": "markdown",
   "metadata": {},
   "source": [
    "Init random seed for consistent results."
   ]
  },
  {
   "cell_type": "code",
   "execution_count": 15,
   "metadata": {},
   "outputs": [],
   "source": [
    "np.random.seed(42)"
   ]
  },
  {
   "cell_type": "markdown",
   "metadata": {},
   "source": [
    "### Initial factorization"
   ]
  },
  {
   "cell_type": "code",
   "execution_count": 16,
   "metadata": {},
   "outputs": [
    {
     "name": "stdout",
     "output_type": "stream",
     "text": [
      "Average\n",
      "2019-04-15 23:32:30,551: Fitting the average model: bias=True, update=True\n",
      "2019-04-15 23:32:30,585: Fit complete in 0.03363490104675293 seconds\n",
      "Train error: RMSE:1.233249,  MAE:0.997729\n",
      "Test error: RMSE:1.396533,  MAE:1.140745\n",
      "\n",
      "RMF\n",
      "2019-04-15 23:32:30,987: Initialization complete in 0.3238101005554199 seconds\n",
      "2019-04-15 23:32:30,988: Factorizing (SGD) 1 relations: bias=True, max_iter=20, bias=True, regularization=0.005, learning rate=0.008 epsilon=0\n",
      "2019-04-15 23:32:31,922: Factorization complete in 1.2583277225494385 seconds\n",
      "Train error: RMSE:0.813682,  MAE:0.617414\n",
      "Test error: RMSE:1.381345,  MAE:1.113865\n",
      "\n",
      "SIMF\n",
      "2019-04-15 23:32:32,400: Initialization complete in 0.29581403732299805 seconds\n",
      "2019-04-15 23:32:32,401: Factorizing (SGD) 1 relations: bias=True, max_iter=20, bias=True, regularization=0.005, learning rate=0.008 epsilon=0\n",
      "2019-04-15 23:32:34,011: Factorization complete in 1.906440019607544 seconds\n",
      "Train error: RMSE:0.878305,  MAE:0.665419\n",
      "Test error: RMSE:1.382957,  MAE:1.114590\n",
      "\n",
      "SIMF_X3\n",
      "2019-04-15 23:32:43,888: Initialization complete in 9.731640815734863 seconds\n",
      "2019-04-15 23:32:43,889: Factorizing (SGD) 3 relations: bias=True, max_iter=20, bias=True, regularization=0.005, learning rate=0.008 epsilon=0\n",
      "2019-04-15 23:33:39,134: Factorization complete in 64.97856187820435 seconds\n",
      "Train error: RMSE:0.889697,  MAE:0.688135\n",
      "Test error: RMSE:1.383254,  MAE:1.107649\n",
      "\n",
      "SIMF_X3_CB\n",
      "2019-04-15 23:33:49,473: Initialization complete in 9.795372724533081 seconds\n",
      "2019-04-15 23:33:49,474: Factorizing (SGD) 3 relations: bias=True, max_iter=20, bias=True, regularization=0.005, learning rate=0.008 epsilon=0\n",
      "2019-04-15 23:34:41,057: Factorization complete in 61.37951183319092 seconds\n",
      "Train error: RMSE:0.904356,  MAE:0.697274\n",
      "Test error: RMSE:1.379842,  MAE:1.105072\n",
      "\n",
      "Initial factorization complete\n"
     ]
    }
   ],
   "source": [
    "models = pre_train_models(models, [r_ub, r_uh, r_ur], [test_ub, test_uh, test_ur])"
   ]
  },
  {
   "cell_type": "markdown",
   "metadata": {},
   "source": [
    "### Stream evaluation"
   ]
  },
  {
   "cell_type": "code",
   "execution_count": 17,
   "metadata": {},
   "outputs": [
    {
     "name": "stdout",
     "output_type": "stream",
     "text": [
      "Starting streaming phase\n",
      "\n",
      "Window:  0 1508623200 1508626800\n",
      "Average window error: RMSE:1.401127,  RRMSE:1.000000\n",
      "RMF window error: RMSE:1.292685,  RRMSE:0.922603\n",
      "SIMF window error: RMSE:1.292063,  RRMSE:0.922160\n",
      "SIMF_X3 window error: RMSE:1.296764,  RRMSE:0.925515\n",
      "SIMF_X3_CB window error: RMSE:1.249214,  RRMSE:0.891578\n",
      "\n",
      "Window:  25 1510783200 1510786800\n",
      "Average window error: RMSE:1.442216,  RRMSE:1.000000\n",
      "RMF window error: RMSE:1.351086,  RRMSE:0.936812\n",
      "SIMF window error: RMSE:1.350122,  RRMSE:0.936144\n",
      "SIMF_X3 window error: RMSE:1.331163,  RRMSE:0.922998\n",
      "SIMF_X3_CB window error: RMSE:1.355368,  RRMSE:0.939781\n",
      "\n",
      "Window:  50 1512943200 1512946800\n",
      "Average window error: RMSE:1.369409,  RRMSE:1.000000\n",
      "RMF window error: RMSE:1.291673,  RRMSE:0.943234\n",
      "SIMF window error: RMSE:1.295073,  RRMSE:0.945716\n",
      "SIMF_X3 window error: RMSE:1.307797,  RRMSE:0.955008\n",
      "SIMF_X3_CB window error: RMSE:1.292581,  RRMSE:0.943897\n",
      "\n",
      "Window:  75 1515103200 1515106800\n",
      "Average window error: RMSE:1.333458,  RRMSE:1.000000\n",
      "RMF window error: RMSE:1.316318,  RRMSE:0.987146\n",
      "SIMF window error: RMSE:1.335393,  RRMSE:1.001451\n",
      "SIMF_X3 window error: RMSE:1.350701,  RRMSE:1.012931\n",
      "SIMF_X3_CB window error: RMSE:1.306684,  RRMSE:0.979921\n",
      "\n",
      "Window:  100 1517263200 1517266800\n",
      "Average window error: RMSE:1.346828,  RRMSE:1.000000\n",
      "RMF window error: RMSE:1.219588,  RRMSE:0.905527\n",
      "SIMF window error: RMSE:1.214268,  RRMSE:0.901576\n",
      "SIMF_X3 window error: RMSE:1.215642,  RRMSE:0.902596\n",
      "SIMF_X3_CB window error: RMSE:1.213487,  RRMSE:0.900997\n",
      "\n",
      "Window:  125 1519423200 1519426800\n",
      "Average window error: RMSE:1.433730,  RRMSE:1.000000\n",
      "RMF window error: RMSE:1.348630,  RRMSE:0.940644\n",
      "SIMF window error: RMSE:1.352534,  RRMSE:0.943367\n",
      "SIMF_X3 window error: RMSE:1.349843,  RRMSE:0.941490\n",
      "SIMF_X3_CB window error: RMSE:1.326497,  RRMSE:0.925207\n",
      "\n",
      "Window:  150 1521583200 1521586800\n",
      "Average window error: RMSE:1.448376,  RRMSE:1.000000\n",
      "RMF window error: RMSE:1.392917,  RRMSE:0.961710\n",
      "SIMF window error: RMSE:1.391546,  RRMSE:0.960763\n",
      "SIMF_X3 window error: RMSE:1.376647,  RRMSE:0.950476\n",
      "SIMF_X3_CB window error: RMSE:1.350367,  RRMSE:0.932332\n",
      "\n",
      "Window:  175 1523739600 1523743200\n",
      "Average window error: RMSE:1.450911,  RRMSE:1.000000\n",
      "RMF window error: RMSE:1.371931,  RRMSE:0.945566\n",
      "SIMF window error: RMSE:1.379763,  RRMSE:0.950963\n",
      "SIMF_X3 window error: RMSE:1.379103,  RRMSE:0.950508\n",
      "SIMF_X3_CB window error: RMSE:1.355471,  RRMSE:0.934221\n",
      "\n",
      "Window:  200 1525899600 1525903200\n",
      "Average window error: RMSE:1.307657,  RRMSE:1.000000\n",
      "RMF window error: RMSE:1.255185,  RRMSE:0.959873\n",
      "SIMF window error: RMSE:1.237429,  RRMSE:0.946295\n",
      "SIMF_X3 window error: RMSE:1.228258,  RRMSE:0.939282\n",
      "SIMF_X3_CB window error: RMSE:1.226977,  RRMSE:0.938302\n",
      "\n",
      "Window:  225 1528059600 1528063200\n",
      "Average window error: RMSE:1.532798,  RRMSE:1.000000\n",
      "RMF window error: RMSE:1.412901,  RRMSE:0.921779\n",
      "SIMF window error: RMSE:1.405344,  RRMSE:0.916849\n",
      "SIMF_X3 window error: RMSE:1.386559,  RRMSE:0.904593\n",
      "SIMF_X3_CB window error: RMSE:1.396290,  RRMSE:0.910942\n",
      "\n",
      "Window:  250 1530219600 1530223200\n",
      "Average window error: RMSE:1.457527,  RRMSE:1.000000\n",
      "RMF window error: RMSE:1.490458,  RRMSE:1.022594\n",
      "SIMF window error: RMSE:1.475110,  RRMSE:1.012064\n",
      "SIMF_X3 window error: RMSE:1.478546,  RRMSE:1.014421\n",
      "SIMF_X3_CB window error: RMSE:1.476674,  RRMSE:1.013137\n"
     ]
    }
   ],
   "source": [
    "results_bars = evaluate_stream(models, [r_ub, r_uh, r_ur], [test_ub, test_uh, test_ur])"
   ]
  },
  {
   "cell_type": "markdown",
   "metadata": {},
   "source": [
    "### Plot prequential RRMSE"
   ]
  },
  {
   "cell_type": "code",
   "execution_count": 18,
   "metadata": {},
   "outputs": [
    {
     "data": {
      "image/png": "[encoded data removed]",
      "text/plain": [
       "<matplotlib.figure.Figure at 0x114703240>"
      ]
     },
     "metadata": {},
     "output_type": "display_data"
    }
   ],
   "source": [
    "plot_results(results_bars, title='Recommending bars', ylim=(0.90, 1.01))"
   ]
  },
  {
   "cell_type": "markdown",
   "metadata": {},
   "source": [
    "Please note that few first prequential error evaluations are unstable because they are obtained on relatively few test examples."
   ]
  }
 ],
 "metadata": {
  "kernelspec": {
   "display_name": "Python [default]",
   "language": "python",
   "name": "python3"
  },
  "language_info": {
   "codemirror_mode": {
    "name": "ipython",
    "version": 3
   },
   "file_extension": ".py",
   "mimetype": "text/x-python",
   "name": "python",
   "nbconvert_exporter": "python",
   "pygments_lexer": "ipython3",
   "version": "3.6.3"
  },
  "latex_envs": {
   "LaTeX_envs_menu_present": true,
   "autocomplete": true,
   "bibliofile": "biblio.bib",
   "cite_by": "apalike",
   "current_citInitial": 1,
   "eqLabelWithNumbers": true,
   "eqNumInitial": 1,
   "hotkeys": {
    "equation": "Ctrl-E",
    "itemize": "Ctrl-I"
   },
   "labels_anchors": false,
   "latex_user_defs": false,
   "report_style_numbering": false,
   "user_envs_cfg": false
  },
  "nbTranslate": {
   "displayLangs": [
    "*"
   ],
   "hotkey": "alt-t",
   "langInMainMenu": true,
   "sourceLang": "en",
   "targetLang": "fr",
   "useGoogleTranslate": true
  }
 },
 "nbformat": 4,
 "nbformat_minor": 2
}
