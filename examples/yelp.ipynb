{
 "cells": [
  {
   "cell_type": "code",
   "execution_count": 1,
   "metadata": {},
   "outputs": [],
   "source": [
    "import matplotlib.pyplot as plt\n",
    "import numpy as np\n",
    "import tables"
   ]
  },
  {
   "cell_type": "markdown",
   "metadata": {},
   "source": [
    "# SIMF\n",
    "\n",
    "Load the `simf` module."
   ]
  },
  {
   "cell_type": "code",
   "execution_count": 2,
   "metadata": {},
   "outputs": [],
   "source": [
    "from simf import *\n",
    "from simf.common import split_streams, build_test_set, build_sparse_matrix"
   ]
  },
  {
   "cell_type": "markdown",
   "metadata": {},
   "source": [
    "## Load data\n",
    "\n",
    "Read *yelp* data on *users*, *bars*, *hotels* and *restaurants*.\n",
    "\n",
    "The data covers the period from 2.7.2017 to 2.7.2018."
   ]
  },
  {
   "cell_type": "code",
   "execution_count": 3,
   "metadata": {},
   "outputs": [],
   "source": [
    "with tables.open_file('data/yelp_users-restaurants.tbl', 'r') as h5_file:\n",
    "    s1 = h5_file.root.data.read()\n",
    "with tables.open_file('data/yelp_users-bars.tbl', 'r') as h5_file:\n",
    "    s2 = h5_file.root.data.read()\n",
    "with tables.open_file('data/yelp_users-hotels.tbl', 'r') as h5_file:\n",
    "    s3 = h5_file.root.data.read()\n",
    "\n",
    "# Create data streams\n",
    "train_ur, train_ub, train_uh, test_ur, test_ub, test_uh = split_streams([s1, s2, s3], t=1508546800)\n",
    "test_set = build_test_set(test_ur)\n",
    "\n",
    "# Create object types\n",
    "o_users = ObjectType('users', 25)\n",
    "o_restaurants = ObjectType('restaurants', 10)\n",
    "o_bars = ObjectType('bars', 10)\n",
    "o_hotels = ObjectType('hotels', 10)"
   ]
  },
  {
   "cell_type": "markdown",
   "metadata": {},
   "source": [
    "Data is encoded in sparse format, and includes:\n",
    "* row\n",
    "* column\n",
    "* value\n",
    "* timestamp\n",
    "\n",
    "For example, let's look at stream 1:"
   ]
  },
  {
   "cell_type": "code",
   "execution_count": 4,
   "metadata": {},
   "outputs": [
    {
     "data": {
      "text/plain": [
       "(4, 589772)"
      ]
     },
     "execution_count": 4,
     "metadata": {},
     "output_type": "execute_result"
    }
   ],
   "source": [
    "s1.shape"
   ]
  },
  {
   "cell_type": "markdown",
   "metadata": {},
   "source": [
    "There are 21936 data points. Let's look at the first three entries:"
   ]
  },
  {
   "cell_type": "code",
   "execution_count": 5,
   "metadata": {},
   "outputs": [
    {
     "data": {
      "text/plain": [
       "array([[         0,          1,          1],\n",
       "       [         0,          1,          2],\n",
       "       [         4,          4,          5],\n",
       "       [1505772000, 1505772000, 1505772000]], dtype=int32)"
      ]
     },
     "execution_count": 5,
     "metadata": {},
     "output_type": "execute_result"
    }
   ],
   "source": [
    "s1[:,:3]"
   ]
  },
  {
   "cell_type": "markdown",
   "metadata": {},
   "source": [
    "The data is divided into the pretraining (from 2.7.2017 to 20.10.2017) and streaming set (from 21.10.2017 to 2.7.2018). The split date is set when calling the `split_streams` function with parameter `t=1508546800`."
   ]
  },
  {
   "cell_type": "markdown",
   "metadata": {},
   "source": [
    "## Pretraining"
   ]
  },
  {
   "cell_type": "code",
   "execution_count": 6,
   "metadata": {},
   "outputs": [],
   "source": [
    "def pre_train_models(models, relations, streams):\n",
    "    main_relation = relations[0]\n",
    "    test_set = build_test_set(streams[0])\n",
    "    # Iterate through models\n",
    "    for m_name, m in models.items():\n",
    "        print(m_name)\n",
    "        data = [main_relation]  # data is just one stream (main relation)\n",
    "        if \"X3\" in m_name:\n",
    "            # data is composed of all three streams (main relation + two auxiliary relations)\n",
    "            data = relations\n",
    "        # Fit models\n",
    "        m.fit(data=data, verbose=True)\n",
    "        # Calculate the error (train and test - remaining stream)\n",
    "        print(\"Train error: RMSE:%f,  MAE:%f\" % m.get_train_error()[main_relation])\n",
    "        print(\"Test error: RMSE:%f,  MAE:%f\\n\" % m.get_test_error(main_relation, test_set)[main_relation])\n",
    "    print(\"Initial factorization complete\")\n",
    "    return models"
   ]
  },
  {
   "cell_type": "markdown",
   "metadata": {},
   "source": [
    "## Streaming phase"
   ]
  },
  {
   "cell_type": "code",
   "execution_count": 7,
   "metadata": {},
   "outputs": [],
   "source": [
    "def evaluate_stream(models, relations, streams, update_interval=3600, max_iter=3, max_updates=None):\n",
    "    r1, r2, r3 = relations\n",
    "    results = {}\n",
    "    # Update models with new params\n",
    "    for n, m in models.items():\n",
    "        m.max_iter = max_iter\n",
    "    print(\"Starting streaming phase\")\n",
    "    for k, s in enumerate(streams):\n",
    "        streams[k] = list([\n",
    "            [int(x) for x in s[0]],\n",
    "            [int(x) for x in s[1]],\n",
    "            [float(x) for x in s[2]],\n",
    "            [int(x) for x in s[3]]]\n",
    "        )\n",
    "    # Sliding windows of stream data - discrete intervals [current_ts, next_ts]\n",
    "    current_ts = streams[0][3][0]\n",
    "    next_ts = current_ts + update_interval\n",
    "    windows = [[] for k in streams]\n",
    "\n",
    "    i = 0\n",
    "    # End when main stream runs out of instances\n",
    "    while len(streams[0][3]) > 0:\n",
    "        if max_updates and i >= max_updates:\n",
    "            break\n",
    "        row, col, val, ts = [], [], [], []\n",
    "        # Pop elements into the window\n",
    "        for k, s in enumerate(streams):\n",
    "            while len(s[3]) > 0 and s[3][0] <= next_ts:\n",
    "                row.append(s[0].pop(0))\n",
    "                col.append(s[1].pop(0))\n",
    "                val.append(s[2].pop(0))\n",
    "                ts.append(s[3].pop(0))\n",
    "            windows[k] = [row, col, val, ts]\n",
    "            row, col, val, ts = [], [], [], []\n",
    "\n",
    "        # Continue with next window if no updates on main relation\n",
    "        if float(len(windows[0][0])) < 1:\n",
    "            current_ts += update_interval\n",
    "            next_ts += update_interval\n",
    "            continue\n",
    "        # Get true values from the main stream\n",
    "        true_values = np.array(windows[0][2])\n",
    "        average_rmse = None\n",
    "\n",
    "        if i % 25 == 0:\n",
    "            print()\n",
    "            print(\"Window: \", i, current_ts, next_ts)\n",
    "        # Loop through all models\n",
    "        for m_name, m in models.items():\n",
    "            # Get predictions for the current window\n",
    "            predictions = m.predict_stream(r1, list(zip(*windows[0][:3])), verbose=False)\n",
    "            # Get the error of the average predictor (for calculating rrmse)\n",
    "            if m_name == 'Average':\n",
    "                average_rmse = m.rmse(true_values, predictions)\n",
    "            # Get the error for other predictors and calculate the rrmse\n",
    "            mrmse = m.rmse(true_values, predictions)\n",
    "            rrmse = mrmse / average_rmse\n",
    "            if i % 25 == 0:\n",
    "                print(\"%s window error: RMSE:%f,  RRMSE:%f\" % (m_name, mrmse, rrmse))\n",
    "            # Append results\n",
    "            if m_name not in results:\n",
    "                results[m_name] = ([mrmse], [rrmse])\n",
    "            else:\n",
    "                results[m_name][0].append(mrmse)\n",
    "                results[m_name][1].append(rrmse)\n",
    "\n",
    "            # Update models\n",
    "            r1.set_matrix(build_sparse_matrix(windows[0][:3]))\n",
    "            r2.set_matrix(build_sparse_matrix(windows[1][:3]))\n",
    "            r3.set_matrix(build_sparse_matrix(windows[2][:3]))\n",
    "            data = [r1]  # data is just one stream (main relation)\n",
    "            if \"X3\" in m_name:\n",
    "                # data is composed of all three streams (main relation + two auxiliary relations)\n",
    "                data = [r1, r2, r3]\n",
    "            m.fit_update(data=data, verbose=False)\n",
    "\n",
    "        # Update the interval\n",
    "        current_ts += update_interval\n",
    "        next_ts += update_interval\n",
    "        i += 1\n",
    "    return results"
   ]
  },
  {
   "cell_type": "code",
   "execution_count": 8,
   "metadata": {
    "scrolled": true
   },
   "outputs": [],
   "source": [
    "def plot_results(results, plot_rrmse=True, l=0.99, title='', save_to_file=None, ylim=None):\n",
    "    plt.figure(figsize=(10, 5))\n",
    "    for name, res in results.items():\n",
    "        rrmses = res[int(plot_rrmse)]\n",
    "        preq_errors = []\n",
    "        si = 0\n",
    "        ni = 0\n",
    "        mdata = np.array(rrmses)\n",
    "        for r in mdata:\n",
    "            r = float(r)\n",
    "            si = r + l * si\n",
    "            ni = 1 + l * ni\n",
    "            preq_errors.append(si / float(ni))\n",
    "        plt.plot(range(len(preq_errors)), preq_errors, label=name)\n",
    "\n",
    "    if ylim:\n",
    "        plt.ylim(ylim)\n",
    "\n",
    "    plt.ylabel('Prequential RRMSE')\n",
    "    plt.xlabel('Instances (Updates)')\n",
    "    plt.title(title)\n",
    "    plt.legend()\n",
    "    plt.show()\n",
    "    if save_to_file:\n",
    "        plt.savefig(save_to_file, bbox_inches='tight')"
   ]
  },
  {
   "cell_type": "markdown",
   "metadata": {},
   "source": [
    "# Two examples"
   ]
  },
  {
   "cell_type": "markdown",
   "metadata": {},
   "source": [
    "## Recommending *restaurants*"
   ]
  },
  {
   "cell_type": "markdown",
   "metadata": {},
   "source": [
    "### Pick models to test"
   ]
  },
  {
   "cell_type": "code",
   "execution_count": 9,
   "metadata": {},
   "outputs": [],
   "source": [
    "models = {\n",
    "    'Average': Average(),\n",
    "    'RMF': RMF(rank=25, max_iter=20, regularization=0.005, learning_rate=0.008),\n",
    "    'SIMF': SIMF(max_iter=20, regularization=0.005, learning_rate=0.008),\n",
    "    'SIMF_X3': SIMF(max_iter=20, regularization=0.005, learning_rate=0.008),\n",
    "    'SIMF_X3_CB': SIMF(max_iter=20, regularization=0.005, learning_rate=0.008, combine_bias=True),\n",
    "}\n",
    "\n",
    "r_ur = Relation(o_users, o_restaurants, build_sparse_matrix(train_ur), weight=1)\n",
    "r_ub = Relation(o_users, o_bars, build_sparse_matrix(train_ub), weight=1)\n",
    "r_uh = Relation(o_users, o_hotels, build_sparse_matrix(train_uh), weight=1)"
   ]
  },
  {
   "cell_type": "markdown",
   "metadata": {},
   "source": [
    "Init random seed for consistent results."
   ]
  },
  {
   "cell_type": "code",
   "execution_count": 10,
   "metadata": {},
   "outputs": [],
   "source": [
    "np.random.seed(42)"
   ]
  },
  {
   "cell_type": "markdown",
   "metadata": {},
   "source": [
    "### Initial factorization"
   ]
  },
  {
   "cell_type": "code",
   "execution_count": 11,
   "metadata": {},
   "outputs": [
    {
     "name": "stdout",
     "output_type": "stream",
     "text": [
      "Average\n",
      "2019-04-15 14:36:37,596: Fitting the average model: bias=True, update=True\n",
      "2019-04-15 14:36:37,628: Fit complete in 0.030705928802490234 seconds\n",
      "Train error: RMSE:1.240055,  MAE:1.025735\n",
      "Test error: RMSE:1.400745,  MAE:1.165995\n",
      "\n",
      "RMF\n",
      "2019-04-15 14:36:39,797: Initialization complete in 0.10239219665527344 seconds\n",
      "2019-04-15 14:36:39,798: Factorizing (SGD) 1 relations: bias=True, max_iter=20, bias=True, regularization=0.005, learning rate=0.008 epsilon=0\n",
      "2019-04-15 14:37:04,639: Factorization complete in 24.944637060165405 seconds\n",
      "Train error: RMSE:0.855502,  MAE:0.672108\n",
      "Test error: RMSE:1.396186,  MAE:1.163119\n",
      "\n",
      "SIMF\n",
      "2019-04-15 14:37:08,579: Initialization complete in 0.15669894218444824 seconds\n",
      "2019-04-15 14:37:08,580: Factorizing (SGD) 1 relations: bias=True, max_iter=20, bias=True, regularization=0.005, learning rate=0.008 epsilon=0\n",
      "2019-04-15 14:37:56,047: Factorization complete in 47.62477684020996 seconds\n",
      "Train error: RMSE:0.881098,  MAE:0.723809\n",
      "Test error: RMSE:1.396270,  MAE:1.132172\n",
      "\n",
      "SIMF_X3\n",
      "2019-04-15 14:38:08,921: Initialization complete in 9.166767835617065 seconds\n",
      "2019-04-15 14:38:08,921: Factorizing (SGD) 3 relations: bias=True, max_iter=20, bias=True, regularization=0.005, learning rate=0.008 epsilon=0\n",
      "2019-04-15 14:38:58,320: Factorization complete in 58.56575107574463 seconds\n",
      "Train error: RMSE:0.887954,  MAE:0.733964\n",
      "Test error: RMSE:1.402588,  MAE:1.165613\n",
      "\n",
      "SIMF_X3_CB\n",
      "2019-04-15 14:39:11,113: Initialization complete in 9.258246898651123 seconds\n",
      "2019-04-15 14:39:11,114: Factorizing (SGD) 3 relations: bias=True, max_iter=20, bias=True, regularization=0.005, learning rate=0.008 epsilon=0\n",
      "2019-04-15 14:40:00,826: Factorization complete in 58.97180914878845 seconds\n",
      "Train error: RMSE:0.868097,  MAE:0.709114\n",
      "Test error: RMSE:1.404265,  MAE:1.158516\n",
      "\n",
      "Initial factorization complete\n"
     ]
    }
   ],
   "source": [
    "models = pre_train_models(models, [r_ur, r_ub, r_uh], [test_ur, test_ub, test_uh])"
   ]
  },
  {
   "cell_type": "markdown",
   "metadata": {},
   "source": [
    "### Stream evaluation"
   ]
  },
  {
   "cell_type": "code",
   "execution_count": 12,
   "metadata": {},
   "outputs": [
    {
     "name": "stdout",
     "output_type": "stream",
     "text": [
      "Starting streaming phase\n",
      "\n",
      "Window:  0 1508623200 1508626800\n",
      "Average window error: RMSE:1.449288,  RRMSE:1.000000\n",
      "RMF window error: RMSE:1.437898,  RRMSE:0.992141\n",
      "SIMF window error: RMSE:1.457204,  RRMSE:1.005462\n",
      "SIMF_X3 window error: RMSE:1.442339,  RRMSE:0.995205\n",
      "SIMF_X3_CB window error: RMSE:1.442298,  RRMSE:0.995177\n",
      "\n",
      "Window:  25 1510783200 1510786800\n",
      "Average window error: RMSE:1.374230,  RRMSE:1.000000\n",
      "RMF window error: RMSE:1.317803,  RRMSE:0.958940\n",
      "SIMF window error: RMSE:1.307333,  RRMSE:0.951320\n",
      "SIMF_X3 window error: RMSE:1.309262,  RRMSE:0.952724\n",
      "SIMF_X3_CB window error: RMSE:1.309013,  RRMSE:0.952543\n",
      "\n",
      "Window:  50 1512943200 1512946800\n",
      "Average window error: RMSE:1.400490,  RRMSE:1.000000\n",
      "RMF window error: RMSE:1.320947,  RRMSE:0.943203\n",
      "SIMF window error: RMSE:1.316444,  RRMSE:0.939989\n",
      "SIMF_X3 window error: RMSE:1.313682,  RRMSE:0.938016\n",
      "SIMF_X3_CB window error: RMSE:1.313725,  RRMSE:0.938047\n",
      "\n",
      "Window:  75 1515103200 1515106800\n",
      "Average window error: RMSE:1.339979,  RRMSE:1.000000\n",
      "RMF window error: RMSE:1.276685,  RRMSE:0.952764\n",
      "SIMF window error: RMSE:1.267020,  RRMSE:0.945552\n",
      "SIMF_X3 window error: RMSE:1.269005,  RRMSE:0.947033\n",
      "SIMF_X3_CB window error: RMSE:1.268240,  RRMSE:0.946462\n",
      "\n",
      "Window:  100 1517263200 1517266800\n",
      "Average window error: RMSE:1.352816,  RRMSE:1.000000\n",
      "RMF window error: RMSE:1.289798,  RRMSE:0.953417\n",
      "SIMF window error: RMSE:1.285499,  RRMSE:0.950239\n",
      "SIMF_X3 window error: RMSE:1.285832,  RRMSE:0.950485\n",
      "SIMF_X3_CB window error: RMSE:1.281741,  RRMSE:0.947461\n",
      "\n",
      "Window:  125 1519423200 1519426800\n",
      "Average window error: RMSE:1.472306,  RRMSE:1.000000\n",
      "RMF window error: RMSE:1.383162,  RRMSE:0.939453\n",
      "SIMF window error: RMSE:1.380982,  RRMSE:0.937973\n",
      "SIMF_X3 window error: RMSE:1.372743,  RRMSE:0.932377\n",
      "SIMF_X3_CB window error: RMSE:1.372996,  RRMSE:0.932548\n",
      "\n",
      "Window:  150 1521583200 1521586800\n",
      "Average window error: RMSE:1.423975,  RRMSE:1.000000\n",
      "RMF window error: RMSE:1.332985,  RRMSE:0.936101\n",
      "SIMF window error: RMSE:1.338834,  RRMSE:0.940208\n",
      "SIMF_X3 window error: RMSE:1.327353,  RRMSE:0.932146\n",
      "SIMF_X3_CB window error: RMSE:1.326240,  RRMSE:0.931365\n",
      "\n",
      "Window:  175 1523739600 1523743200\n",
      "Average window error: RMSE:1.458166,  RRMSE:1.000000\n",
      "RMF window error: RMSE:1.386271,  RRMSE:0.950695\n",
      "SIMF window error: RMSE:1.388187,  RRMSE:0.952009\n",
      "SIMF_X3 window error: RMSE:1.378974,  RRMSE:0.945691\n",
      "SIMF_X3_CB window error: RMSE:1.376555,  RRMSE:0.944032\n",
      "\n",
      "Window:  200 1525899600 1525903200\n",
      "Average window error: RMSE:1.378894,  RRMSE:1.000000\n",
      "RMF window error: RMSE:1.285637,  RRMSE:0.932368\n",
      "SIMF window error: RMSE:1.284822,  RRMSE:0.931777\n",
      "SIMF_X3 window error: RMSE:1.277614,  RRMSE:0.926550\n",
      "SIMF_X3_CB window error: RMSE:1.270503,  RRMSE:0.921392\n",
      "\n",
      "Window:  225 1528059600 1528063200\n",
      "Average window error: RMSE:1.447316,  RRMSE:1.000000\n",
      "RMF window error: RMSE:1.362211,  RRMSE:0.941198\n",
      "SIMF window error: RMSE:1.364369,  RRMSE:0.942689\n",
      "SIMF_X3 window error: RMSE:1.351350,  RRMSE:0.933693\n",
      "SIMF_X3_CB window error: RMSE:1.351987,  RRMSE:0.934134\n",
      "\n",
      "Window:  250 1530219600 1530223200\n",
      "Average window error: RMSE:1.471515,  RRMSE:1.000000\n",
      "RMF window error: RMSE:1.379956,  RRMSE:0.937780\n",
      "SIMF window error: RMSE:1.378805,  RRMSE:0.936998\n",
      "SIMF_X3 window error: RMSE:1.366041,  RRMSE:0.928323\n",
      "SIMF_X3_CB window error: RMSE:1.363918,  RRMSE:0.926880\n"
     ]
    }
   ],
   "source": [
    "results_restaurants = evaluate_stream(models, [r_ur, r_ub, r_uh], [test_ur, test_ub, test_uh])"
   ]
  },
  {
   "cell_type": "markdown",
   "metadata": {},
   "source": [
    "### Plot prequential RRMSE"
   ]
  },
  {
   "cell_type": "code",
   "execution_count": 13,
   "metadata": {},
   "outputs": [
    {
     "data": {
      "image/png": "[encoded data removed]",
      "text/plain": [
       "<matplotlib.figure.Figure at 0x10f46be10>"
      ]
     },
     "metadata": {},
     "output_type": "display_data"
    }
   ],
   "source": [
    "plot_results(results_restaurants, title='Recommending restaurants', ylim=(0.93, 1.01))"
   ]
  },
  {
   "cell_type": "markdown",
   "metadata": {},
   "source": [
    "## Recommending *bars*"
   ]
  },
  {
   "cell_type": "markdown",
   "metadata": {},
   "source": [
    "### Pick models to test"
   ]
  },
  {
   "cell_type": "code",
   "execution_count": 14,
   "metadata": {},
   "outputs": [],
   "source": [
    "models = {\n",
    "    'Average': Average(),\n",
    "    'RMF': RMF(rank=25, max_iter=20, regularization=0.005, learning_rate=0.008),\n",
    "    'SIMF': SIMF(max_iter=20, regularization=0.005, learning_rate=0.008),\n",
    "    'SIMF_X3': SIMF(max_iter=20, regularization=0.005, learning_rate=0.008),\n",
    "    'SIMF_X3_CB': SIMF(max_iter=20, regularization=0.005, learning_rate=0.008, combine_bias=True),\n",
    "}\n",
    "\n",
    "r_ur = Relation(o_users, o_restaurants, build_sparse_matrix(train_ur), weight=1)\n",
    "r_ub = Relation(o_users, o_bars, build_sparse_matrix(train_ub), weight=1)\n",
    "r_uh = Relation(o_users, o_hotels, build_sparse_matrix(train_uh), weight=1)"
   ]
  },
  {
   "cell_type": "markdown",
   "metadata": {},
   "source": [
    "Init random seed for consistent results."
   ]
  },
  {
   "cell_type": "code",
   "execution_count": 15,
   "metadata": {},
   "outputs": [],
   "source": [
    "np.random.seed(42)"
   ]
  },
  {
   "cell_type": "markdown",
   "metadata": {},
   "source": [
    "### Initial factorization"
   ]
  },
  {
   "cell_type": "code",
   "execution_count": 16,
   "metadata": {},
   "outputs": [
    {
     "name": "stdout",
     "output_type": "stream",
     "text": [
      "Average\n",
      "2019-04-15 14:52:49,610: Fitting the average model: bias=True, update=True\n",
      "2019-04-15 14:52:49,666: Fit complete in 0.05404996871948242 seconds\n",
      "Train error: RMSE:1.333169,  MAE:1.136226\n",
      "Test error: RMSE:1.451131,  MAE:1.287774\n",
      "\n",
      "RMF\n",
      "2019-04-15 14:52:50,169: Initialization complete in 0.33546876907348633 seconds\n",
      "2019-04-15 14:52:50,170: Factorizing (SGD) 1 relations: bias=True, max_iter=20, bias=True, regularization=0.005, learning rate=0.008 epsilon=0\n",
      "2019-04-15 14:52:50,196: Factorization complete in 0.36247992515563965 seconds\n",
      "Train error: RMSE:0.846718,  MAE:0.667718\n",
      "Test error: RMSE:1.425863,  MAE:1.186614\n",
      "\n",
      "SIMF\n",
      "2019-04-15 14:52:50,665: Initialization complete in 0.36963510513305664 seconds\n",
      "2019-04-15 14:52:50,666: Factorizing (SGD) 1 relations: bias=True, max_iter=20, bias=True, regularization=0.005, learning rate=0.008 epsilon=0\n",
      "2019-04-15 14:52:50,718: Factorization complete in 0.4223001003265381 seconds\n",
      "Train error: RMSE:0.847217,  MAE:0.646969\n",
      "Test error: RMSE:1.425030,  MAE:1.183947\n",
      "\n",
      "SIMF_X3\n",
      "2019-04-15 14:53:00,785: Initialization complete in 9.941298961639404 seconds\n",
      "2019-04-15 14:53:00,786: Factorizing (SGD) 3 relations: bias=True, max_iter=20, bias=True, regularization=0.005, learning rate=0.008 epsilon=0\n",
      "2019-04-15 14:53:01,722: Factorization complete in 10.877842903137207 seconds\n",
      "Train error: RMSE:0.847753,  MAE:0.655648\n",
      "Test error: RMSE:1.424611,  MAE:1.181283\n",
      "\n",
      "SIMF_X3_CB\n",
      "2019-04-15 14:53:11,647: Initialization complete in 9.801257848739624 seconds\n",
      "2019-04-15 14:53:11,648: Factorizing (SGD) 3 relations: bias=True, max_iter=20, bias=True, regularization=0.005, learning rate=0.008 epsilon=0\n",
      "2019-04-15 14:53:12,699: Factorization complete in 10.852468967437744 seconds\n",
      "Train error: RMSE:0.860339,  MAE:0.665565\n",
      "Test error: RMSE:1.426401,  MAE:1.188106\n",
      "\n",
      "Initial factorization complete\n"
     ]
    }
   ],
   "source": [
    "models = pre_train_models(models, [r_ub, r_uh, r_ur], [test_ub, test_uh, test_ur])"
   ]
  },
  {
   "cell_type": "markdown",
   "metadata": {},
   "source": [
    "### Stream evaluation"
   ]
  },
  {
   "cell_type": "code",
   "execution_count": 17,
   "metadata": {},
   "outputs": [
    {
     "name": "stdout",
     "output_type": "stream",
     "text": [
      "Starting streaming phase\n",
      "\n",
      "Window:  0 1508623200 1508626800\n",
      "Average window error: RMSE:1.485464,  RRMSE:1.000000\n",
      "RMF window error: RMSE:1.497011,  RRMSE:1.007773\n",
      "SIMF window error: RMSE:1.475094,  RRMSE:0.993019\n",
      "SIMF_X3 window error: RMSE:1.470454,  RRMSE:0.989895\n",
      "SIMF_X3_CB window error: RMSE:1.483862,  RRMSE:0.998922\n",
      "\n",
      "Window:  25 1510783200 1510786800\n",
      "Average window error: RMSE:1.442216,  RRMSE:1.000000\n",
      "RMF window error: RMSE:1.468945,  RRMSE:1.018533\n",
      "SIMF window error: RMSE:1.436569,  RRMSE:0.996084\n",
      "SIMF_X3 window error: RMSE:1.430853,  RRMSE:0.992121\n",
      "SIMF_X3_CB window error: RMSE:1.419123,  RRMSE:0.983988\n",
      "\n",
      "Window:  50 1512943200 1512946800\n",
      "Average window error: RMSE:1.369409,  RRMSE:1.000000\n",
      "RMF window error: RMSE:1.357980,  RRMSE:0.991654\n",
      "SIMF window error: RMSE:1.346889,  RRMSE:0.983555\n",
      "SIMF_X3 window error: RMSE:1.349152,  RRMSE:0.985207\n",
      "SIMF_X3_CB window error: RMSE:1.360592,  RRMSE:0.993561\n",
      "\n",
      "Window:  75 1515103200 1515106800\n",
      "Average window error: RMSE:1.333458,  RRMSE:1.000000\n",
      "RMF window error: RMSE:1.283336,  RRMSE:0.962412\n",
      "SIMF window error: RMSE:1.306875,  RRMSE:0.980065\n",
      "SIMF_X3 window error: RMSE:1.308768,  RRMSE:0.981484\n",
      "SIMF_X3_CB window error: RMSE:1.298361,  RRMSE:0.973680\n",
      "\n",
      "Window:  100 1517263200 1517266800\n",
      "Average window error: RMSE:1.346828,  RRMSE:1.000000\n",
      "RMF window error: RMSE:1.287433,  RRMSE:0.955900\n",
      "SIMF window error: RMSE:1.283639,  RRMSE:0.953083\n",
      "SIMF_X3 window error: RMSE:1.287892,  RRMSE:0.956241\n",
      "SIMF_X3_CB window error: RMSE:1.285717,  RRMSE:0.954626\n",
      "\n",
      "Window:  125 1519423200 1519426800\n",
      "Average window error: RMSE:1.433730,  RRMSE:1.000000\n",
      "RMF window error: RMSE:1.375820,  RRMSE:0.959609\n",
      "SIMF window error: RMSE:1.364024,  RRMSE:0.951381\n",
      "SIMF_X3 window error: RMSE:1.369680,  RRMSE:0.955326\n",
      "SIMF_X3_CB window error: RMSE:1.346141,  RRMSE:0.938908\n",
      "\n",
      "Window:  150 1521583200 1521586800\n",
      "Average window error: RMSE:1.448376,  RRMSE:1.000000\n",
      "RMF window error: RMSE:1.390605,  RRMSE:0.960113\n",
      "SIMF window error: RMSE:1.383457,  RRMSE:0.955178\n",
      "SIMF_X3 window error: RMSE:1.375199,  RRMSE:0.949476\n",
      "SIMF_X3_CB window error: RMSE:1.365078,  RRMSE:0.942489\n",
      "\n",
      "Window:  175 1523739600 1523743200\n",
      "Average window error: RMSE:1.450911,  RRMSE:1.000000\n",
      "RMF window error: RMSE:1.366983,  RRMSE:0.942155\n",
      "SIMF window error: RMSE:1.377559,  RRMSE:0.949445\n",
      "SIMF_X3 window error: RMSE:1.384089,  RRMSE:0.953945\n",
      "SIMF_X3_CB window error: RMSE:1.371296,  RRMSE:0.945128\n",
      "\n",
      "Window:  200 1525899600 1525903200\n",
      "Average window error: RMSE:1.307657,  RRMSE:1.000000\n",
      "RMF window error: RMSE:1.282938,  RRMSE:0.981097\n",
      "SIMF window error: RMSE:1.266966,  RRMSE:0.968883\n",
      "SIMF_X3 window error: RMSE:1.268090,  RRMSE:0.969742\n",
      "SIMF_X3_CB window error: RMSE:1.268556,  RRMSE:0.970099\n",
      "\n",
      "Window:  225 1528059600 1528063200\n",
      "Average window error: RMSE:1.532798,  RRMSE:1.000000\n",
      "RMF window error: RMSE:1.444532,  RRMSE:0.942415\n",
      "SIMF window error: RMSE:1.431941,  RRMSE:0.934201\n",
      "SIMF_X3 window error: RMSE:1.408834,  RRMSE:0.919126\n",
      "SIMF_X3_CB window error: RMSE:1.424710,  RRMSE:0.929483\n",
      "\n",
      "Window:  250 1530219600 1530223200\n",
      "Average window error: RMSE:1.457527,  RRMSE:1.000000\n",
      "RMF window error: RMSE:1.459650,  RRMSE:1.001457\n",
      "SIMF window error: RMSE:1.453733,  RRMSE:0.997398\n",
      "SIMF_X3 window error: RMSE:1.448261,  RRMSE:0.993643\n",
      "SIMF_X3_CB window error: RMSE:1.428745,  RRMSE:0.980253\n"
     ]
    }
   ],
   "source": [
    "results_bars = evaluate_stream(models, [r_ub, r_uh, r_ur], [test_ub, test_uh, test_ur])"
   ]
  },
  {
   "cell_type": "markdown",
   "metadata": {},
   "source": [
    "### Plot prequential RRMSE"
   ]
  },
  {
   "cell_type": "code",
   "execution_count": 18,
   "metadata": {},
   "outputs": [
    {
     "data": {
      "image/png": "[encoded data removed]",
      "text/plain": [
       "<matplotlib.figure.Figure at 0x10cefba20>"
      ]
     },
     "metadata": {},
     "output_type": "display_data"
    }
   ],
   "source": [
    "plot_results(results_bars, title='Recommending bars', ylim=(0.90, 1.01))"
   ]
  }
 ],
 "metadata": {
  "kernelspec": {
   "display_name": "Python [default]",
   "language": "python",
   "name": "python3"
  },
  "language_info": {
   "codemirror_mode": {
    "name": "ipython",
    "version": 3
   },
   "file_extension": ".py",
   "mimetype": "text/x-python",
   "name": "python",
   "nbconvert_exporter": "python",
   "pygments_lexer": "ipython3",
   "version": "3.6.3"
  },
  "latex_envs": {
   "LaTeX_envs_menu_present": true,
   "autocomplete": true,
   "bibliofile": "biblio.bib",
   "cite_by": "apalike",
   "current_citInitial": 1,
   "eqLabelWithNumbers": true,
   "eqNumInitial": 1,
   "hotkeys": {
    "equation": "Ctrl-E",
    "itemize": "Ctrl-I"
   },
   "labels_anchors": false,
   "latex_user_defs": false,
   "report_style_numbering": false,
   "user_envs_cfg": false
  },
  "nbTranslate": {
   "displayLangs": [
    "*"
   ],
   "hotkey": "alt-t",
   "langInMainMenu": true,
   "sourceLang": "en",
   "targetLang": "fr",
   "useGoogleTranslate": true
  }
 },
 "nbformat": 4,
 "nbformat_minor": 2
}
