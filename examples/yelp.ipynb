{
 "cells": [
  {
   "cell_type": "code",
   "execution_count": 1,
   "metadata": {},
   "outputs": [],
   "source": [
    "import matplotlib.pyplot as plt\n",
    "import numpy as np\n",
    "import tables"
   ]
  },
  {
   "cell_type": "markdown",
   "metadata": {},
   "source": [
    "# SIMF\n",
    "\n",
    "Load the `simf` module."
   ]
  },
  {
   "cell_type": "code",
   "execution_count": 2,
   "metadata": {},
   "outputs": [],
   "source": [
    "from simf import *\n",
    "from simf.common import split_streams, build_test_set, build_sparse_matrix"
   ]
  },
  {
   "cell_type": "markdown",
   "metadata": {},
   "source": [
    "## Load data\n",
    "\n",
    "Read *yelp* data on *users*, *bars*, *hotels* and *restaurants*.\n",
    "\n",
    "The data covers the period from 2.7.2017 to 2.7.2018."
   ]
  },
  {
   "cell_type": "code",
   "execution_count": 3,
   "metadata": {},
   "outputs": [],
   "source": [
    "with tables.open_file('data/yelp_users-restaurants.tbl', 'r') as h5_file:\n",
    "    s1 = h5_file.root.data.read()\n",
    "with tables.open_file('data/yelp_users-bars.tbl', 'r') as h5_file:\n",
    "    s2 = h5_file.root.data.read()\n",
    "with tables.open_file('data/yelp_users-hotels.tbl', 'r') as h5_file:\n",
    "    s3 = h5_file.root.data.read()\n",
    "\n",
    "# Create data streams\n",
    "train_ur, train_ub, train_uh, test_ur, test_ub, test_uh = split_streams([s1, s2, s3], t=1508546800)\n",
    "test_set = build_test_set(test_ur)\n",
    "\n",
    "# Create object types\n",
    "o_users = ObjectType('users', 25)\n",
    "o_restaurants = ObjectType('restaurants', 10)\n",
    "o_bars = ObjectType('bars', 10)\n",
    "o_hotels = ObjectType('hotels', 10)"
   ]
  },
  {
   "cell_type": "markdown",
   "metadata": {},
   "source": [
    "Data is encoded in sparse format, and includes:\n",
    "* row\n",
    "* column\n",
    "* value\n",
    "* timestamp\n",
    "\n",
    "For example, let's look at stream 1:"
   ]
  },
  {
   "cell_type": "code",
   "execution_count": 4,
   "metadata": {},
   "outputs": [
    {
     "data": {
      "text/plain": [
       "(4, 589772)"
      ]
     },
     "execution_count": 4,
     "metadata": {},
     "output_type": "execute_result"
    }
   ],
   "source": [
    "s1.shape"
   ]
  },
  {
   "cell_type": "markdown",
   "metadata": {},
   "source": [
    "There are 21936 data points. Let's look at the first three entries:"
   ]
  },
  {
   "cell_type": "code",
   "execution_count": 5,
   "metadata": {},
   "outputs": [
    {
     "data": {
      "text/plain": [
       "array([[         0,          1,          1],\n",
       "       [         0,          1,          2],\n",
       "       [         4,          4,          5],\n",
       "       [1505772000, 1505772000, 1505772000]], dtype=int32)"
      ]
     },
     "execution_count": 5,
     "metadata": {},
     "output_type": "execute_result"
    }
   ],
   "source": [
    "s1[:,:3]"
   ]
  },
  {
   "cell_type": "markdown",
   "metadata": {},
   "source": [
    "The data is divided into the pretraining (from 2.7.2017 to 20.10.2017) and streaming set (from 21.10.2017 to 2.7.2018). The split date is set when calling the `split_streams` function with parameter `t=1508546800`."
   ]
  },
  {
   "cell_type": "markdown",
   "metadata": {},
   "source": [
    "## Pretraining"
   ]
  },
  {
   "cell_type": "code",
   "execution_count": 6,
   "metadata": {},
   "outputs": [],
   "source": [
    "def pre_train_models(models, relations, streams):\n",
    "    main_relation = relations[0]\n",
    "    test_set = build_test_set(streams[0])\n",
    "    # Iterate through models\n",
    "    for m_name, m in models.items():\n",
    "        print(m_name)\n",
    "        data = [main_relation]  # data is just one stream (main relation)\n",
    "        if \"X3\" in m_name:\n",
    "            # data is composed of all three streams (main relation + two auxiliary relations)\n",
    "            data = relations\n",
    "        # Fit models\n",
    "        m.fit(data=data, verbose=True)\n",
    "        # Calculate the error (train and test - remaining stream)\n",
    "        print(\"Train error: RMSE:%f,  MAE:%f\" % m.get_train_error()[main_relation])\n",
    "        print(\"Test error: RMSE:%f,  MAE:%f\\n\" % m.get_test_error(main_relation, test_set)[main_relation])\n",
    "    print(\"Initial factorization complete\")\n",
    "    return models"
   ]
  },
  {
   "cell_type": "markdown",
   "metadata": {},
   "source": [
    "## Streaming phase"
   ]
  },
  {
   "cell_type": "code",
   "execution_count": 7,
   "metadata": {},
   "outputs": [],
   "source": [
    "def evaluate_stream(models, relations, streams, update_interval=3600, max_iter=3, max_updates=None):\n",
    "    r1, r2, r3 = relations\n",
    "    results = {}\n",
    "    # Update models with new params\n",
    "    for n, m in models.items():\n",
    "        m.max_iter = max_iter\n",
    "    print(\"Starting streaming phase\")\n",
    "    for k, s in enumerate(streams):\n",
    "        streams[k] = list([\n",
    "            [int(x) for x in s[0]],\n",
    "            [int(x) for x in s[1]],\n",
    "            [float(x) for x in s[2]],\n",
    "            [int(x) for x in s[3]]]\n",
    "        )\n",
    "    # Sliding windows of stream data - discrete intervals [current_ts, next_ts]\n",
    "    current_ts = streams[0][3][0]\n",
    "    next_ts = current_ts + update_interval\n",
    "    windows = [[] for k in streams]\n",
    "\n",
    "    i = 0\n",
    "    # End when main stream runs out of instances\n",
    "    while len(streams[0][3]) > 0:\n",
    "        if max_updates and i >= max_updates:\n",
    "            break\n",
    "        row, col, val, ts = [], [], [], []\n",
    "        # Pop elements into the window\n",
    "        for k, s in enumerate(streams):\n",
    "            while len(s[3]) > 0 and s[3][0] <= next_ts:\n",
    "                row.append(s[0].pop(0))\n",
    "                col.append(s[1].pop(0))\n",
    "                val.append(s[2].pop(0))\n",
    "                ts.append(s[3].pop(0))\n",
    "            windows[k] = [row, col, val, ts]\n",
    "            row, col, val, ts = [], [], [], []\n",
    "\n",
    "        # Continue with next window if no updates on main relation\n",
    "        if float(len(windows[0][0])) < 1:\n",
    "            current_ts += update_interval\n",
    "            next_ts += update_interval\n",
    "            continue\n",
    "        # Get true values from the main stream\n",
    "        true_values = np.array(windows[0][2])\n",
    "        average_rmse = None\n",
    "\n",
    "        if i % 25 == 0:\n",
    "            print()\n",
    "            print(\"Window: \", i, current_ts, next_ts)\n",
    "        # Loop through all models\n",
    "        for m_name, m in models.items():\n",
    "            # Get predictions for the current window\n",
    "            predictions = m.predict_stream(r1, list(zip(*windows[0][:3])), verbose=False)\n",
    "            # Get the error of the average predictor (for calculating rrmse)\n",
    "            if m_name == 'Average':\n",
    "                average_rmse = m.rmse(true_values, predictions)\n",
    "            # Get the error for other predictors and calculate the rrmse\n",
    "            mrmse = m.rmse(true_values, predictions)\n",
    "            rrmse = mrmse / average_rmse\n",
    "            if i % 25 == 0:\n",
    "                print(\"%s window error: RMSE:%f,  RRMSE:%f\" % (m_name, mrmse, rrmse))\n",
    "            # Append results\n",
    "            if m_name not in results:\n",
    "                results[m_name] = ([mrmse], [rrmse])\n",
    "            else:\n",
    "                results[m_name][0].append(mrmse)\n",
    "                results[m_name][1].append(rrmse)\n",
    "\n",
    "            # Update models\n",
    "            r1.set_matrix(build_sparse_matrix(windows[0][:3]))\n",
    "            r2.set_matrix(build_sparse_matrix(windows[1][:3]))\n",
    "            r3.set_matrix(build_sparse_matrix(windows[2][:3]))\n",
    "            data = [r1]  # data is just one stream (main relation)\n",
    "            if \"X3\" in m_name:\n",
    "                # data is composed of all three streams (main relation + two auxiliary relations)\n",
    "                data = [r1, r2, r3]\n",
    "            m.fit_update(data=data, verbose=False)\n",
    "\n",
    "        # Update the interval\n",
    "        current_ts += update_interval\n",
    "        next_ts += update_interval\n",
    "        i += 1\n",
    "    return results"
   ]
  },
  {
   "cell_type": "code",
   "execution_count": 8,
   "metadata": {
    "scrolled": true
   },
   "outputs": [],
   "source": [
    "def plot_results(results, plot_rrmse=True, l=0.99, title='', save_to_file=None, ylim=None):\n",
    "    plt.figure(figsize=(10, 5))\n",
    "    for name, res in results.items():\n",
    "        errors = res[int(plot_rrmse)]\n",
    "        preq_errors = []\n",
    "        si = 0\n",
    "        ni = 0\n",
    "        errors = np.array(errors[1:])\n",
    "        for r in errors:\n",
    "            r = float(r)\n",
    "            si = r + l * si\n",
    "            ni = 1 + l * ni\n",
    "            preq_errors.append(si / float(ni))\n",
    "        plt.plot(range(len(preq_errors)), preq_errors, label=name)\n",
    "\n",
    "    if ylim:\n",
    "        plt.ylim(ylim)\n",
    "\n",
    "    plt.ylabel('Prequential RRMSE')\n",
    "    plt.xlabel('Instances (Updates)')\n",
    "    plt.title(title)\n",
    "    plt.legend()\n",
    "    plt.show()\n",
    "    if save_to_file:\n",
    "        plt.savefig(save_to_file, bbox_inches='tight')"
   ]
  },
  {
   "cell_type": "markdown",
   "metadata": {},
   "source": [
    "# Two examples"
   ]
  },
  {
   "cell_type": "markdown",
   "metadata": {},
   "source": [
    "## Recommending *restaurants*"
   ]
  },
  {
   "cell_type": "markdown",
   "metadata": {},
   "source": [
    "### Pick models to test"
   ]
  },
  {
   "cell_type": "code",
   "execution_count": 9,
   "metadata": {},
   "outputs": [],
   "source": [
    "models = {\n",
    "    'Average': Average(),\n",
    "    'RMF': RMF(rank=25, max_iter=20, regularization=0.005, learning_rate=0.008),\n",
    "    'SIMF': SIMF(max_iter=20, regularization=0.005, learning_rate=0.008),\n",
    "    'SIMF_X3': SIMF(max_iter=20, regularization=0.005, learning_rate=0.008),\n",
    "    'SIMF_X3_CB': SIMF(max_iter=20, regularization=0.005, learning_rate=0.008, combine_bias=True),\n",
    "}\n",
    "\n",
    "r_ur = Relation(o_users, o_restaurants, build_sparse_matrix(train_ur), weight=1)\n",
    "r_ub = Relation(o_users, o_bars, build_sparse_matrix(train_ub), weight=1)\n",
    "r_uh = Relation(o_users, o_hotels, build_sparse_matrix(train_uh), weight=1)"
   ]
  },
  {
   "cell_type": "markdown",
   "metadata": {},
   "source": [
    "Init random seed for consistent results."
   ]
  },
  {
   "cell_type": "code",
   "execution_count": 10,
   "metadata": {},
   "outputs": [],
   "source": [
    "np.random.seed(42)"
   ]
  },
  {
   "cell_type": "markdown",
   "metadata": {},
   "source": [
    "### Initial factorization"
   ]
  },
  {
   "cell_type": "code",
   "execution_count": 11,
   "metadata": {},
   "outputs": [
    {
     "name": "stdout",
     "output_type": "stream",
     "text": [
      "Average\n",
      "2019-04-15 17:19:59,992: Fitting the average model: bias=True, update=True\n",
      "2019-04-15 17:20:00,015: Fit complete in 0.02205657958984375 seconds\n",
      "Train error: RMSE:1.240055,  MAE:1.025735\n",
      "Test error: RMSE:1.400745,  MAE:1.165995\n",
      "\n",
      "RMF\n",
      "2019-04-15 17:20:02,962: Initialization complete in 0.11270308494567871 seconds\n",
      "2019-04-15 17:20:02,963: Factorizing (SGD) 1 relations: bias=True, max_iter=20, bias=True, regularization=0.005, learning rate=0.008 epsilon=0\n",
      "2019-04-15 17:20:25,603: Factorization complete in 22.754384756088257 seconds\n",
      "Train error: RMSE:0.855502,  MAE:0.672108\n",
      "Test error: RMSE:1.396186,  MAE:1.163119\n",
      "\n",
      "SIMF\n",
      "2019-04-15 17:20:30,151: Initialization complete in 0.08805012702941895 seconds\n",
      "2019-04-15 17:20:30,152: Factorizing (SGD) 1 relations: bias=True, max_iter=20, bias=True, regularization=0.005, learning rate=0.008 epsilon=0\n",
      "2019-04-15 17:21:15,331: Factorization complete in 45.26777172088623 seconds\n",
      "Train error: RMSE:0.867332,  MAE:0.708410\n",
      "Test error: RMSE:1.396261,  MAE:1.133028\n",
      "\n",
      "SIMF_X3\n",
      "2019-04-15 17:21:31,793: Initialization complete in 11.041322231292725 seconds\n",
      "2019-04-15 17:21:31,794: Factorizing (SGD) 3 relations: bias=True, max_iter=20, bias=True, regularization=0.005, learning rate=0.008 epsilon=0\n",
      "2019-04-15 17:22:27,779: Factorization complete in 67.02770352363586 seconds\n",
      "Train error: RMSE:0.874854,  MAE:0.718254\n",
      "Test error: RMSE:1.403599,  MAE:1.161673\n",
      "\n",
      "SIMF_X3_CB\n",
      "2019-04-15 17:22:45,101: Initialization complete in 12.26872205734253 seconds\n",
      "2019-04-15 17:22:45,102: Factorizing (SGD) 3 relations: bias=True, max_iter=20, bias=True, regularization=0.005, learning rate=0.008 epsilon=0\n",
      "2019-04-15 17:23:41,550: Factorization complete in 68.7176501750946 seconds\n",
      "Train error: RMSE:0.884053,  MAE:0.729653\n",
      "Test error: RMSE:1.401358,  MAE:1.163253\n",
      "\n",
      "Initial factorization complete\n"
     ]
    }
   ],
   "source": [
    "models = pre_train_models(models, [r_ur, r_ub, r_uh], [test_ur, test_ub, test_uh])"
   ]
  },
  {
   "cell_type": "markdown",
   "metadata": {},
   "source": [
    "### Stream evaluation"
   ]
  },
  {
   "cell_type": "code",
   "execution_count": 12,
   "metadata": {},
   "outputs": [
    {
     "name": "stdout",
     "output_type": "stream",
     "text": [
      "Starting streaming phase\n",
      "\n",
      "Window:  0 1508623200 1508626800\n",
      "Average window error: RMSE:1.449288,  RRMSE:1.000000\n",
      "RMF window error: RMSE:1.437898,  RRMSE:0.992141\n",
      "SIMF window error: RMSE:1.458114,  RRMSE:1.006090\n",
      "SIMF_X3 window error: RMSE:1.446127,  RRMSE:0.997819\n",
      "SIMF_X3_CB window error: RMSE:1.441020,  RRMSE:0.994295\n",
      "\n",
      "Window:  25 1510783200 1510786800\n",
      "Average window error: RMSE:1.374230,  RRMSE:1.000000\n",
      "RMF window error: RMSE:1.317803,  RRMSE:0.958940\n",
      "SIMF window error: RMSE:1.308024,  RRMSE:0.951824\n",
      "SIMF_X3 window error: RMSE:1.308169,  RRMSE:0.951929\n",
      "SIMF_X3_CB window error: RMSE:1.311246,  RRMSE:0.954168\n",
      "\n",
      "Window:  50 1512943200 1512946800\n",
      "Average window error: RMSE:1.400490,  RRMSE:1.000000\n",
      "RMF window error: RMSE:1.320947,  RRMSE:0.943203\n",
      "SIMF window error: RMSE:1.315507,  RRMSE:0.939319\n",
      "SIMF_X3 window error: RMSE:1.310730,  RRMSE:0.935908\n",
      "SIMF_X3_CB window error: RMSE:1.313246,  RRMSE:0.937705\n",
      "\n",
      "Window:  75 1515103200 1515106800\n",
      "Average window error: RMSE:1.339979,  RRMSE:1.000000\n",
      "RMF window error: RMSE:1.276685,  RRMSE:0.952764\n",
      "SIMF window error: RMSE:1.266623,  RRMSE:0.945256\n",
      "SIMF_X3 window error: RMSE:1.267239,  RRMSE:0.945715\n",
      "SIMF_X3_CB window error: RMSE:1.266495,  RRMSE:0.945160\n",
      "\n",
      "Window:  100 1517263200 1517266800\n",
      "Average window error: RMSE:1.352816,  RRMSE:1.000000\n",
      "RMF window error: RMSE:1.289798,  RRMSE:0.953417\n",
      "SIMF window error: RMSE:1.285112,  RRMSE:0.949953\n",
      "SIMF_X3 window error: RMSE:1.287298,  RRMSE:0.951569\n",
      "SIMF_X3_CB window error: RMSE:1.282534,  RRMSE:0.948048\n",
      "\n",
      "Window:  125 1519423200 1519426800\n",
      "Average window error: RMSE:1.472306,  RRMSE:1.000000\n",
      "RMF window error: RMSE:1.383162,  RRMSE:0.939453\n",
      "SIMF window error: RMSE:1.381198,  RRMSE:0.938119\n",
      "SIMF_X3 window error: RMSE:1.369998,  RRMSE:0.930512\n",
      "SIMF_X3_CB window error: RMSE:1.372110,  RRMSE:0.931946\n",
      "\n",
      "Window:  150 1521583200 1521586800\n",
      "Average window error: RMSE:1.423975,  RRMSE:1.000000\n",
      "RMF window error: RMSE:1.332985,  RRMSE:0.936101\n",
      "SIMF window error: RMSE:1.338722,  RRMSE:0.940130\n",
      "SIMF_X3 window error: RMSE:1.327083,  RRMSE:0.931957\n",
      "SIMF_X3_CB window error: RMSE:1.328061,  RRMSE:0.932643\n",
      "\n",
      "Window:  175 1523739600 1523743200\n",
      "Average window error: RMSE:1.458166,  RRMSE:1.000000\n",
      "RMF window error: RMSE:1.386271,  RRMSE:0.950695\n",
      "SIMF window error: RMSE:1.387699,  RRMSE:0.951674\n",
      "SIMF_X3 window error: RMSE:1.379513,  RRMSE:0.946060\n",
      "SIMF_X3_CB window error: RMSE:1.378150,  RRMSE:0.945126\n",
      "\n",
      "Window:  200 1525899600 1525903200\n",
      "Average window error: RMSE:1.378894,  RRMSE:1.000000\n",
      "RMF window error: RMSE:1.285637,  RRMSE:0.932368\n",
      "SIMF window error: RMSE:1.285288,  RRMSE:0.932115\n",
      "SIMF_X3 window error: RMSE:1.274028,  RRMSE:0.923949\n",
      "SIMF_X3_CB window error: RMSE:1.273409,  RRMSE:0.923500\n",
      "\n",
      "Window:  225 1528059600 1528063200\n",
      "Average window error: RMSE:1.447316,  RRMSE:1.000000\n",
      "RMF window error: RMSE:1.362211,  RRMSE:0.941198\n",
      "SIMF window error: RMSE:1.363365,  RRMSE:0.941995\n",
      "SIMF_X3 window error: RMSE:1.351827,  RRMSE:0.934023\n",
      "SIMF_X3_CB window error: RMSE:1.354119,  RRMSE:0.935607\n",
      "\n",
      "Window:  250 1530219600 1530223200\n",
      "Average window error: RMSE:1.471515,  RRMSE:1.000000\n",
      "RMF window error: RMSE:1.379956,  RRMSE:0.937780\n",
      "SIMF window error: RMSE:1.378715,  RRMSE:0.936936\n",
      "SIMF_X3 window error: RMSE:1.364906,  RRMSE:0.927552\n",
      "SIMF_X3_CB window error: RMSE:1.365426,  RRMSE:0.927905\n"
     ]
    }
   ],
   "source": [
    "results_restaurants = evaluate_stream(models, [r_ur, r_ub, r_uh], [test_ur, test_ub, test_uh])"
   ]
  },
  {
   "cell_type": "markdown",
   "metadata": {},
   "source": [
    "### Plot prequential RRMSE"
   ]
  },
  {
   "cell_type": "code",
   "execution_count": 13,
   "metadata": {},
   "outputs": [
    {
     "data": {
      "image/png": "[encoded data removed]",
      "text/plain": [
       "<Figure size 720x360 with 1 Axes>"
      ]
     },
     "metadata": {
      "needs_background": "light"
     },
     "output_type": "display_data"
    }
   ],
   "source": [
    "plot_results(results_restaurants, title='Recommending restaurants', ylim=(0.93, 1.01))"
   ]
  },
  {
   "cell_type": "markdown",
   "metadata": {},
   "source": [
    "## Recommending *bars*"
   ]
  },
  {
   "cell_type": "markdown",
   "metadata": {},
   "source": [
    "### Pick models to test"
   ]
  },
  {
   "cell_type": "code",
   "execution_count": 14,
   "metadata": {},
   "outputs": [],
   "source": [
    "models = {\n",
    "    'Average': Average(),\n",
    "    'RMF': RMF(rank=25, max_iter=20, regularization=0.005, learning_rate=0.008),\n",
    "    'SIMF': SIMF(max_iter=20, regularization=0.005, learning_rate=0.008),\n",
    "    'SIMF_X3': SIMF(max_iter=20, regularization=0.005, learning_rate=0.008),\n",
    "    'SIMF_X3_CB': SIMF(max_iter=20, regularization=0.005, learning_rate=0.008, combine_bias=True),\n",
    "}\n",
    "\n",
    "r_ur = Relation(o_users, o_restaurants, build_sparse_matrix(train_ur), weight=1)\n",
    "r_ub = Relation(o_users, o_bars, build_sparse_matrix(train_ub), weight=1)\n",
    "r_uh = Relation(o_users, o_hotels, build_sparse_matrix(train_uh), weight=1)"
   ]
  },
  {
   "cell_type": "markdown",
   "metadata": {},
   "source": [
    "Init random seed for consistent results."
   ]
  },
  {
   "cell_type": "code",
   "execution_count": 15,
   "metadata": {},
   "outputs": [],
   "source": [
    "np.random.seed(42)"
   ]
  },
  {
   "cell_type": "markdown",
   "metadata": {},
   "source": [
    "### Initial factorization"
   ]
  },
  {
   "cell_type": "code",
   "execution_count": 16,
   "metadata": {},
   "outputs": [
    {
     "name": "stdout",
     "output_type": "stream",
     "text": [
      "Average\n",
      "2019-04-15 17:32:54,888: Fitting the average model: bias=True, update=True\n",
      "2019-04-15 17:32:54,915: Fit complete in 0.025700807571411133 seconds\n",
      "Train error: RMSE:1.233249,  MAE:0.997729\n",
      "Test error: RMSE:1.396533,  MAE:1.140745\n",
      "\n",
      "RMF\n",
      "2019-04-15 17:32:55,507: Initialization complete in 0.4626960754394531 seconds\n",
      "2019-04-15 17:32:55,508: Factorizing (SGD) 1 relations: bias=True, max_iter=20, bias=True, regularization=0.005, learning rate=0.008 epsilon=0\n",
      "2019-04-15 17:32:56,276: Factorization complete in 1.2318649291992188 seconds\n",
      "Train error: RMSE:0.813682,  MAE:0.617414\n",
      "Test error: RMSE:1.381345,  MAE:1.113865\n",
      "\n",
      "SIMF\n",
      "2019-04-15 17:32:57,054: Initialization complete in 0.49117016792297363 seconds\n",
      "2019-04-15 17:32:57,055: Factorizing (SGD) 1 relations: bias=True, max_iter=20, bias=True, regularization=0.005, learning rate=0.008 epsilon=0\n",
      "2019-04-15 17:32:58,570: Factorization complete in 2.0074119567871094 seconds\n",
      "Train error: RMSE:0.874975,  MAE:0.668920\n",
      "Test error: RMSE:1.382862,  MAE:1.115523\n",
      "\n",
      "SIMF_X3\n",
      "2019-04-15 17:33:08,407: Initialization complete in 9.614270687103271 seconds\n",
      "2019-04-15 17:33:08,408: Factorizing (SGD) 3 relations: bias=True, max_iter=20, bias=True, regularization=0.005, learning rate=0.008 epsilon=0\n",
      "2019-04-15 17:33:57,085: Factorization complete in 58.29249715805054 seconds\n",
      "Train error: RMSE:0.878676,  MAE:0.677740\n",
      "Test error: RMSE:1.386519,  MAE:1.108183\n",
      "\n",
      "SIMF_X3_CB\n",
      "2019-04-15 17:34:07,460: Initialization complete in 9.76348614692688 seconds\n",
      "2019-04-15 17:34:07,462: Factorizing (SGD) 3 relations: bias=True, max_iter=20, bias=True, regularization=0.005, learning rate=0.008 epsilon=0\n",
      "2019-04-15 17:34:56,780: Factorization complete in 59.08263158798218 seconds\n",
      "Train error: RMSE:0.893584,  MAE:0.695066\n",
      "Test error: RMSE:1.380005,  MAE:1.109231\n",
      "\n",
      "Initial factorization complete\n"
     ]
    }
   ],
   "source": [
    "models = pre_train_models(models, [r_ub, r_uh, r_ur], [test_ub, test_uh, test_ur])"
   ]
  },
  {
   "cell_type": "markdown",
   "metadata": {},
   "source": [
    "### Stream evaluation"
   ]
  },
  {
   "cell_type": "code",
   "execution_count": 17,
   "metadata": {},
   "outputs": [
    {
     "name": "stdout",
     "output_type": "stream",
     "text": [
      "Starting streaming phase\n",
      "\n",
      "Window:  0 1508623200 1508626800\n",
      "Average window error: RMSE:1.401127,  RRMSE:1.000000\n",
      "RMF window error: RMSE:1.292685,  RRMSE:0.922603\n",
      "SIMF window error: RMSE:1.274321,  RRMSE:0.909497\n",
      "SIMF_X3 window error: RMSE:1.289279,  RRMSE:0.920173\n",
      "SIMF_X3_CB window error: RMSE:1.241647,  RRMSE:0.886177\n",
      "\n",
      "Window:  25 1510783200 1510786800\n",
      "Average window error: RMSE:1.442216,  RRMSE:1.000000\n",
      "RMF window error: RMSE:1.351086,  RRMSE:0.936812\n",
      "SIMF window error: RMSE:1.343344,  RRMSE:0.931444\n",
      "SIMF_X3 window error: RMSE:1.331973,  RRMSE:0.923560\n",
      "SIMF_X3_CB window error: RMSE:1.352082,  RRMSE:0.937503\n",
      "\n",
      "Window:  50 1512943200 1512946800\n",
      "Average window error: RMSE:1.369409,  RRMSE:1.000000\n",
      "RMF window error: RMSE:1.291673,  RRMSE:0.943234\n",
      "SIMF window error: RMSE:1.304194,  RRMSE:0.952377\n",
      "SIMF_X3 window error: RMSE:1.306875,  RRMSE:0.954335\n",
      "SIMF_X3_CB window error: RMSE:1.282614,  RRMSE:0.936619\n",
      "\n",
      "Window:  75 1515103200 1515106800\n",
      "Average window error: RMSE:1.333458,  RRMSE:1.000000\n",
      "RMF window error: RMSE:1.316318,  RRMSE:0.987146\n",
      "SIMF window error: RMSE:1.338391,  RRMSE:1.003699\n",
      "SIMF_X3 window error: RMSE:1.345725,  RRMSE:1.009200\n",
      "SIMF_X3_CB window error: RMSE:1.324443,  RRMSE:0.993240\n",
      "\n",
      "Window:  100 1517263200 1517266800\n",
      "Average window error: RMSE:1.346828,  RRMSE:1.000000\n",
      "RMF window error: RMSE:1.219588,  RRMSE:0.905527\n",
      "SIMF window error: RMSE:1.222522,  RRMSE:0.907705\n",
      "SIMF_X3 window error: RMSE:1.199656,  RRMSE:0.890727\n",
      "SIMF_X3_CB window error: RMSE:1.213751,  RRMSE:0.901193\n",
      "\n",
      "Window:  125 1519423200 1519426800\n",
      "Average window error: RMSE:1.433730,  RRMSE:1.000000\n",
      "RMF window error: RMSE:1.348630,  RRMSE:0.940644\n",
      "SIMF window error: RMSE:1.349845,  RRMSE:0.941491\n",
      "SIMF_X3 window error: RMSE:1.355852,  RRMSE:0.945681\n",
      "SIMF_X3_CB window error: RMSE:1.310895,  RRMSE:0.914324\n",
      "\n",
      "Window:  150 1521583200 1521586800\n",
      "Average window error: RMSE:1.448376,  RRMSE:1.000000\n",
      "RMF window error: RMSE:1.392917,  RRMSE:0.961710\n",
      "SIMF window error: RMSE:1.395754,  RRMSE:0.963669\n",
      "SIMF_X3 window error: RMSE:1.408699,  RRMSE:0.972606\n",
      "SIMF_X3_CB window error: RMSE:1.349307,  RRMSE:0.931600\n",
      "\n",
      "Window:  175 1523739600 1523743200\n",
      "Average window error: RMSE:1.450911,  RRMSE:1.000000\n",
      "RMF window error: RMSE:1.371931,  RRMSE:0.945566\n",
      "SIMF window error: RMSE:1.384965,  RRMSE:0.954549\n",
      "SIMF_X3 window error: RMSE:1.377759,  RRMSE:0.949582\n",
      "SIMF_X3_CB window error: RMSE:1.348593,  RRMSE:0.929480\n",
      "\n",
      "Window:  200 1525899600 1525903200\n",
      "Average window error: RMSE:1.307657,  RRMSE:1.000000\n",
      "RMF window error: RMSE:1.255185,  RRMSE:0.959873\n",
      "SIMF window error: RMSE:1.240444,  RRMSE:0.948601\n",
      "SIMF_X3 window error: RMSE:1.234293,  RRMSE:0.943897\n",
      "SIMF_X3_CB window error: RMSE:1.222892,  RRMSE:0.935178\n",
      "\n",
      "Window:  225 1528059600 1528063200\n",
      "Average window error: RMSE:1.532798,  RRMSE:1.000000\n",
      "RMF window error: RMSE:1.412901,  RRMSE:0.921779\n",
      "SIMF window error: RMSE:1.404815,  RRMSE:0.916503\n",
      "SIMF_X3 window error: RMSE:1.387979,  RRMSE:0.905520\n",
      "SIMF_X3_CB window error: RMSE:1.396843,  RRMSE:0.911303\n",
      "\n",
      "Window:  250 1530219600 1530223200\n",
      "Average window error: RMSE:1.457527,  RRMSE:1.000000\n",
      "RMF window error: RMSE:1.490458,  RRMSE:1.022594\n",
      "SIMF window error: RMSE:1.473539,  RRMSE:1.010986\n",
      "SIMF_X3 window error: RMSE:1.491784,  RRMSE:1.023504\n",
      "SIMF_X3_CB window error: RMSE:1.462755,  RRMSE:1.003587\n"
     ]
    }
   ],
   "source": [
    "results_bars = evaluate_stream(models, [r_ub, r_uh, r_ur], [test_ub, test_uh, test_ur])"
   ]
  },
  {
   "cell_type": "markdown",
   "metadata": {},
   "source": [
    "### Plot prequential RRMSE"
   ]
  },
  {
   "cell_type": "code",
   "execution_count": 18,
   "metadata": {},
   "outputs": [
    {
     "data": {
      "image/png": "[encoded data removed]",
      "text/plain": [
       "<Figure size 720x360 with 1 Axes>"
      ]
     },
     "metadata": {
      "needs_background": "light"
     },
     "output_type": "display_data"
    }
   ],
   "source": [
    "plot_results(results_bars, title='Recommending bars', ylim=(0.90, 1.01))"
   ]
  }
 ],
 "metadata": {
  "kernelspec": {
   "display_name": "Python 3",
   "language": "python",
   "name": "python3"
  },
  "language_info": {
   "codemirror_mode": {
    "name": "ipython",
    "version": 3
   },
   "file_extension": ".py",
   "mimetype": "text/x-python",
   "name": "python",
   "nbconvert_exporter": "python",
   "pygments_lexer": "ipython3",
   "version": "3.7.2"
  },
  "latex_envs": {
   "LaTeX_envs_menu_present": true,
   "autocomplete": true,
   "bibliofile": "biblio.bib",
   "cite_by": "apalike",
   "current_citInitial": 1,
   "eqLabelWithNumbers": true,
   "eqNumInitial": 1,
   "hotkeys": {
    "equation": "Ctrl-E",
    "itemize": "Ctrl-I"
   },
   "labels_anchors": false,
   "latex_user_defs": false,
   "report_style_numbering": false,
   "user_envs_cfg": false
  },
  "nbTranslate": {
   "displayLangs": [
    "*"
   ],
   "hotkey": "alt-t",
   "langInMainMenu": true,
   "sourceLang": "en",
   "targetLang": "fr",
   "useGoogleTranslate": true
  }
 },
 "nbformat": 4,
 "nbformat_minor": 2
}
